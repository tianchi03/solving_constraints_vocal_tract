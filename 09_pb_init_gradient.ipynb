{
 "cells": [
  {
   "cell_type": "code",
   "execution_count": 7,
   "metadata": {},
   "outputs": [
    {
     "data": {
      "text/html": [
       "<style>.container { width:100% !important; }</style>"
      ],
      "text/plain": [
       "<IPython.core.display.HTML object>"
      ]
     },
     "metadata": {},
     "output_type": "display_data"
    }
   ],
   "source": [
    "from IPython.core.display import display, HTML\n",
    "display(HTML(\"<style>.container { width:100% !important; }</style>\"))\n",
    "import sys\n",
    "import sympy as sy\n",
    "import pyphs\n",
    "import numpy as np\n",
    "import matplotlib.pyplot as plt\n",
    "import copy\n",
    "\n",
    "import vocal_tract_constrained as vc\n",
    "\n",
    "PPTY_PHY_PARAMS = {\"positive\": True, \"real\" : True }\n",
    "PPTY_STATE_VAR  = {\"real\" : True }\n",
    "\n",
    "from LDL_solve import *\n",
    "\n",
    "fcancel = lambda x: x.cancel()"
   ]
  },
  {
   "cell_type": "code",
   "execution_count": 53,
   "metadata": {},
   "outputs": [
    {
     "name": "stdout",
     "output_type": "stream",
     "text": [
      "Computing equations pour N = 3...\n",
      "Done !\n"
     ]
    }
   ],
   "source": [
    "vt = vc.VocalTractLumpedParameter(N=3)"
   ]
  },
  {
   "cell_type": "code",
   "execution_count": 60,
   "metadata": {
    "scrolled": true
   },
   "outputs": [
    {
     "data": {
      "text/latex": [
       "$\\displaystyle \\frac{\\left(V_{0 1} + V_{1}\\right) \\left(\\rho_{0} + \\rho_{1}\\right) \\left(- \\Delta_{12} - \\frac{\\nu_{12}}{2} + 2 \\nu_{L1}\\right)}{\\ell_{1}^{2}}$"
      ],
      "text/plain": [
       "(V_0_1 + V_1)*(rho_0 + rho_1)*(-Delta_12 - nu_12/2 + 2*nu_L1)/ell_1**2"
      ]
     },
     "metadata": {},
     "output_type": "display_data"
    }
   ],
   "source": []
  },
  {
   "cell_type": "code",
   "execution_count": 63,
   "metadata": {},
   "outputs": [],
   "source": [
    "o = eq.observers\n",
    "\n",
    "subs = {\n",
    "    'rho_0' : 1.225,\n",
    "    'V_0_1' : 0.00001,\n",
    "    'V_0_2' : 0.00002,\n",
    "    'V_0_3' : 0.00003,\n",
    "    'V_1'   : 0,\n",
    "    'V_2'   : 0,\n",
    "    'V_3'   : 0,\n",
    "    'ell_1' : 0.0125,\n",
    "    'ell_2' : 0.0125,\n",
    "    'ell_3' : 0.0125,\n",
    "    'rho_1'   : 0,\n",
    "    'rho_2'   : 0,\n",
    "    'rho_3'   : 0,\n",
    "    'nu_L1'   : 0,\n",
    "    'nu_12'   : 0,\n",
    "    'nu_23'   : 0,\n",
    "    'nu_R3'   : 0,\n",
    "}\n",
    "symb_subs = {}\n",
    "for key, val in subs.items():\n",
    "    symb = sy.symbols(key, **PPTY_PHY_PARAMS)\n",
    "    symb_subs[symb] = val"
   ]
  },
  {
   "cell_type": "code",
   "execution_count": 70,
   "metadata": {},
   "outputs": [
    {
     "data": {
      "text/latex": [
       "$\\displaystyle 6400.0 \\left(V_{1} + 1.0 \\cdot 10^{-5}\\right) \\left(\\rho_{1} + 1.225\\right) \\left(- \\Delta_{12} - \\frac{\\nu_{12}}{2} + 2 \\nu_{L1}\\right)$"
      ],
      "text/plain": [
       "6400.0*(V_1 + 1.0e-5)*(rho_1 + 1.225)*(-Delta_12 - nu_12/2 + 2*nu_L1)"
      ]
     },
     "metadata": {},
     "output_type": "display_data"
    }
   ],
   "source": [
    "display(vt.dxH()[0].subs(symb_subs))"
   ]
  },
  {
   "cell_type": "code",
   "execution_count": 75,
   "metadata": {},
   "outputs": [
    {
     "data": {
      "text/latex": [
       "$\\displaystyle \\frac{P_{0} \\gamma \\rho_{2}^{2}}{2 \\rho_{0}^{2}} - \\frac{3 \\Pi_{y2}^{2}}{2 \\left(V_{0 2} + V_{2}\\right)^{2} \\left(\\rho_{0} + \\rho_{2}\\right)} + \\frac{\\left(\\rho_{0} + \\rho_{2}\\right) \\left(\\left(- \\Delta_{12} + \\frac{\\nu_{12}}{2}\\right) \\left(- \\Delta_{12} - \\frac{\\Delta_{23}}{2} + \\frac{\\nu_{12}}{2} - \\frac{\\nu_{23}}{4}\\right) + \\left(\\Delta_{23} + \\frac{\\nu_{23}}{2}\\right) \\left(\\frac{\\Delta_{12}}{2} + \\Delta_{23} - \\frac{\\nu_{12}}{4} + \\frac{\\nu_{23}}{2}\\right)\\right)}{\\ell_{2}^{2}}$"
      ],
      "text/plain": [
       "P_0*gamma*rho_2**2/(2*rho_0**2) - 3*Pi_y2**2/(2*(V_0_2 + V_2)**2*(rho_0 + rho_2)) + (rho_0 + rho_2)*((-Delta_12 + nu_12/2)*(-Delta_12 - Delta_23/2 + nu_12/2 - nu_23/4) + (Delta_23 + nu_23/2)*(Delta_12/2 + Delta_23 - nu_12/4 + nu_23/2))/ell_2**2"
      ]
     },
     "execution_count": 75,
     "metadata": {},
     "output_type": "execute_result"
    }
   ],
   "source": [
    "vt.dxH()[8]"
   ]
  },
  {
   "cell_type": "code",
   "execution_count": 17,
   "metadata": {},
   "outputs": [
    {
     "data": {
      "text/plain": [
       "dict_items([(mu_1, 6400.0*(V_1 + 1.0e-5)*(rho_1 + 1.225)), (mu_2, (V_0_2 + V_2)*(rho_0 + rho_2)/ell_2**2), ((\\mu_1+\\mu_2), (V_0_2 + V_2)*(rho_0 + rho_2)/ell_2**2 + (V_0_1 + V_1)*(rho_0 + rho_1)/ell_1**2), (mu_3, (V_0_3 + V_3)*(rho_0 + rho_3)/ell_3**2), ((\\mu_2+\\mu_3), (V_0_3 + V_3)*(rho_0 + rho_3)/ell_3**2 + (V_0_2 + V_2)*(rho_0 + rho_2)/ell_2**2), ((\\mu_1-\\mu_2), -(V_0_2 + V_2)*(rho_0 + rho_2)/ell_2**2 + (V_0_1 + V_1)*(rho_0 + rho_1)/ell_1**2), ((\\mu_2-\\mu_3), -(V_0_3 + V_3)*(rho_0 + rho_3)/ell_3**2 + (V_0_2 + V_2)*(rho_0 + rho_2)/ell_2**2), (Delta_12, -(2*nu_12*(-(V_0_2 + V_2)*(rho_0 + rho_2)/ell_2**2 + (V_0_1 + V_1)*(rho_0 + rho_1)/ell_1**2)*((V_0_3 + V_3)*(rho_0 + rho_3)/ell_3**2 + (V_0_2 + V_2)*(rho_0 + rho_2)/ell_2**2) - nu_23*(V_0_2 + V_2)*(rho_0 + rho_2)*(-(V_0_3 + V_3)*(rho_0 + rho_3)/ell_3**2 + (V_0_2 + V_2)*(rho_0 + rho_2)/ell_2**2)/ell_2**2 + 2*nu_23*(V_0_2 + V_2)*(rho_0 + rho_2)*((V_0_3 + V_3)*(rho_0 + rho_3)/ell_3**2 + (V_0_2 + V_2)*(rho_0 + rho_2)/ell_2**2)/ell_2**2 - nu_R3*(V_0_2 + V_2)*(V_0_3 + V_3)*(rho_0 + rho_2)*(rho_0 + rho_3)/(ell_2**2*ell_3**2) + nu_12*(V_0_2 + V_2)**2*(rho_0 + rho_2)**2/ell_2**4 - 2*nu_L1*(V_0_1 + V_1)*(rho_0 + rho_1)*((V_0_3 + V_3)*(rho_0 + rho_3)/ell_3**2 + (V_0_2 + V_2)*(rho_0 + rho_2)/ell_2**2)/ell_1**2)/(4*((V_0_2 + V_2)*(rho_0 + rho_2)/ell_2**2 + (V_0_1 + V_1)*(rho_0 + rho_1)/ell_1**2)*((V_0_3 + V_3)*(rho_0 + rho_3)/ell_3**2 + (V_0_2 + V_2)*(rho_0 + rho_2)/ell_2**2) - (V_0_2 + V_2)**2*(rho_0 + rho_2)**2/ell_2**4)), (Delta_23, -(2*nu_23*((V_0_2 + V_2)*(rho_0 + rho_2)/ell_2**2 + (V_0_1 + V_1)*(rho_0 + rho_1)/ell_1**2)*(-(V_0_3 + V_3)*(rho_0 + rho_3)/ell_3**2 + (V_0_2 + V_2)*(rho_0 + rho_2)/ell_2**2) + 2*nu_R3*(V_0_3 + V_3)*(rho_0 + rho_3)*((V_0_2 + V_2)*(rho_0 + rho_2)/ell_2**2 + (V_0_1 + V_1)*(rho_0 + rho_1)/ell_1**2)/ell_3**2 - nu_12*(V_0_2 + V_2)*(rho_0 + rho_2)*(-(V_0_2 + V_2)*(rho_0 + rho_2)/ell_2**2 + (V_0_1 + V_1)*(rho_0 + rho_1)/ell_1**2)/ell_2**2 - 2*nu_12*(V_0_2 + V_2)*(rho_0 + rho_2)*((V_0_2 + V_2)*(rho_0 + rho_2)/ell_2**2 + (V_0_1 + V_1)*(rho_0 + rho_1)/ell_1**2)/ell_2**2 - nu_23*(V_0_2 + V_2)**2*(rho_0 + rho_2)**2/ell_2**4 + nu_L1*(V_0_1 + V_1)*(V_0_2 + V_2)*(rho_0 + rho_1)*(rho_0 + rho_2)/(ell_1**2*ell_2**2))/(4*((V_0_2 + V_2)*(rho_0 + rho_2)/ell_2**2 + (V_0_1 + V_1)*(rho_0 + rho_1)/ell_1**2)*((V_0_3 + V_3)*(rho_0 + rho_3)/ell_3**2 + (V_0_2 + V_2)*(rho_0 + rho_2)/ell_2**2) - (V_0_2 + V_2)**2*(rho_0 + rho_2)**2/ell_2**4))])"
      ]
     },
     "execution_count": 17,
     "metadata": {},
     "output_type": "execute_result"
    }
   ],
   "source": [
    "o.items()"
   ]
  },
  {
   "cell_type": "code",
   "execution_count": 55,
   "metadata": {},
   "outputs": [
    {
     "data": {
      "text/latex": [
       "$\\displaystyle \\frac{\\left(V_{0 1} + V_{1}\\right) \\left(\\rho_{0} + \\rho_{1}\\right) \\left(- \\Delta_{12} - \\frac{\\nu_{12}}{2} + 2 \\nu_{L1}\\right)}{\\ell_{1}^{2}}$"
      ],
      "text/plain": [
       "(V_0_1 + V_1)*(rho_0 + rho_1)*(-Delta_12 - nu_12/2 + 2*nu_L1)/ell_1**2"
      ]
     },
     "metadata": {},
     "output_type": "display_data"
    }
   ],
   "source": []
  }
 ],
 "metadata": {
  "kernelspec": {
   "display_name": "Python 3",
   "language": "python",
   "name": "python3"
  },
  "language_info": {
   "codemirror_mode": {
    "name": "ipython",
    "version": 3
   },
   "file_extension": ".py",
   "mimetype": "text/x-python",
   "name": "python",
   "nbconvert_exporter": "python",
   "pygments_lexer": "ipython3",
   "version": "3.8.2"
  }
 },
 "nbformat": 4,
 "nbformat_minor": 4
}
