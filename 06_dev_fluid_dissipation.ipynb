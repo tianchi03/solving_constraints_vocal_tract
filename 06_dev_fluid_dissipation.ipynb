{
 "cells": [
  {
   "cell_type": "markdown",
   "metadata": {},
   "source": [
    "# Simulations modèle ICSV"
   ]
  },
  {
   "cell_type": "code",
   "execution_count": 1,
   "metadata": {
    "scrolled": true
   },
   "outputs": [
    {
     "data": {
      "text/html": [
       "<style>.container { width:100% !important; }</style>"
      ],
      "text/plain": [
       "<IPython.core.display.HTML object>"
      ]
     },
     "metadata": {},
     "output_type": "display_data"
    }
   ],
   "source": [
    "import vocal_tract_constrained as vc\n",
    "from simulations_test.body_vocal_tract import *\n",
    "from simulations_test.terminal_impedance import *\n",
    "\n",
    "import pyphs as phs\n",
    "import sympy as sy\n",
    "import numpy as np\n",
    "import os\n",
    "\n",
    "import datetime\n",
    "import pickle\n",
    "import sympy as sy\n",
    "import matplotlib.pyplot as plt\n",
    "from scipy.io.wavfile import write as wavWrite\n",
    "import h5py\n",
    "sy.init_printing()\n",
    "\n",
    "from IPython.core.display import display, HTML\n",
    "display(HTML(\"<style>.container { width:100% !important; }</style>\"))\n",
    "\n",
    "PPTY_PHY_PARAMS = {\"positive\": True, \"real\" : True }                            \n",
    "PPTY_STATE_VAR  = {\"real\" : True }"
   ]
  },
  {
   "cell_type": "code",
   "execution_count": 2,
   "metadata": {},
   "outputs": [],
   "source": [
    "phs.__version__\n",
    "IMPULSE_RESPONSE = True"
   ]
  },
  {
   "cell_type": "markdown",
   "metadata": {},
   "source": [
    "## Instanciation de l'objet `core`\n",
    "On considère que la largeur $L$ est égale à la hauteur au repos $h_0$ pour un tronçon donné.\n",
    "\n",
    "Pour la voyelle A, on prend $A_1 = \\frac{1}{10} A_2$ avec $A_i$ l'aire de la section du tronçon $i=1,2$."
   ]
  },
  {
   "cell_type": "code",
   "execution_count": 3,
   "metadata": {},
   "outputs": [
    {
     "name": "stdout",
     "output_type": "stream",
     "text": [
      "V_0_1 : 1.4e-05\n",
      "V_0_2 : 1.4e-05\n",
      "V_0_3 : 1.4e-05\n",
      "V_0_4 : 1.4e-05\n",
      "V_0_5 : 1.4e-05\n",
      "Computing equations pour N = 5...\n",
      "Done !\n"
     ]
    }
   ],
   "source": [
    "N_tube       = 5\n",
    "label        = 'vocal_tract'\n",
    "forme_model  = 'quad_comp_shift'\n",
    "total_length = 0.175\n",
    "\n",
    "h = 0.02 \n",
    "L = h\n",
    "\n",
    "\n",
    "h_ray = 0.8\n",
    "Sray = (h_ray)**2\n",
    "\n",
    "VT_subs = {\n",
    "        'P_0'     : 101.325e03,\n",
    "        'rho_0'     : 1.225,\n",
    "        'gamma'     : 1.4,\n",
    "        'Z_ray'     : 128/(9*Sray),\n",
    "        }\n",
    "\n",
    "# Calcul des V0\n",
    "for i in range(N_tube): # V = 2 * ell * L * h\n",
    "    ind = str(i+1)\n",
    "    VT_subs[\"ell_\" + ind] = total_length/(2*N_tube)\n",
    "    VT_subs[\"L_\" + ind]   = L\n",
    "    Sw                    = 2*VT_subs['ell_' + ind]*L\n",
    "    VT_subs[\"V_0_\" + ind] = Sw*h\n",
    "    print(\"V_0_{0} : {1}\".format(i+1, VT_subs[\"V_0_\" + ind]))\n",
    "\n",
    "# Assemblage des dictionnaires\n",
    "VT_subs_tot = dict(VT_subs)\n",
    "\n",
    "core = vc.VocalTractLumpedParameter(\n",
    "                                    N     = N_tube,\n",
    "                                    label = label,\n",
    "                                    mode  = forme_model,\n",
    "                                    **VT_subs_tot,\n",
    "                                    )\n",
    "\n",
    "assert not core.freesymbols(), 'Il manque des valeurs/échelles'"
   ]
  },
  {
   "cell_type": "code",
   "execution_count": 4,
   "metadata": {},
   "outputs": [
    {
     "data": {
      "image/png": "[encoded data removed]",
      "text/latex": [
       "$\\displaystyle 6.4e-05$"
      ],
      "text/plain": [
       "6.4e-05"
      ]
     },
     "execution_count": 4,
     "metadata": {},
     "output_type": "execute_result"
    }
   ],
   "source": [
    "Sray"
   ]
  },
  {
   "cell_type": "code",
   "execution_count": 5,
   "metadata": {},
   "outputs": [],
   "source": [
    "# ajout de ressort dans la paroi\n",
    "body = []\n",
    "    \n",
    "for i in range(N_tube):\n",
    "    body.append(DissipativeSingleSpringBody(n=i+1))\n",
    "    core = core +  body[i]\n",
    "    core.add_connector((2, core.y.index(body[i].y[0])), alpha=-1)\n",
    "    \n",
    "\n",
    "# ajout d'une impédance de rayonnement\n",
    "composant_impedance = RadiationImpedance()\n",
    "core = core + composant_impedance\n",
    "core.add_connector((1, core.y.index(composant_impedance.y[0])), alpha=1)\n",
    "\n",
    "\n",
    "core.connect()"
   ]
  },
  {
   "cell_type": "code",
   "execution_count": null,
   "metadata": {},
   "outputs": [],
   "source": []
  },
  {
   "cell_type": "code",
   "execution_count": 6,
   "metadata": {},
   "outputs": [],
   "source": [
    "## Update subs\n",
    "body_subs = {}\n",
    "\n",
    "for i in range(1,N_tube+1):    \n",
    "    body_subs['k_' + str(i)] = 845\n",
    "    body_subs['r_' + str(i)] = 0.8\n",
    "\n",
    "core.subs.update(                                                       \n",
    "    {core.symbols(k,**PPTY_PHY_PARAMS): v for k, v in body_subs.items()}   \n",
    ")"
   ]
  },
  {
   "cell_type": "code",
   "execution_count": null,
   "metadata": {},
   "outputs": [],
   "source": []
  },
  {
   "cell_type": "code",
   "execution_count": null,
   "metadata": {},
   "outputs": [],
   "source": []
  },
  {
   "cell_type": "code",
   "execution_count": null,
   "metadata": {},
   "outputs": [],
   "source": []
  },
  {
   "cell_type": "code",
   "execution_count": null,
   "metadata": {},
   "outputs": [],
   "source": []
  },
  {
   "cell_type": "code",
   "execution_count": null,
   "metadata": {},
   "outputs": [],
   "source": []
  },
  {
   "cell_type": "code",
   "execution_count": null,
   "metadata": {},
   "outputs": [],
   "source": []
  },
  {
   "cell_type": "code",
   "execution_count": null,
   "metadata": {},
   "outputs": [],
   "source": []
  },
  {
   "cell_type": "code",
   "execution_count": null,
   "metadata": {},
   "outputs": [],
   "source": []
  },
  {
   "cell_type": "code",
   "execution_count": null,
   "metadata": {},
   "outputs": [],
   "source": []
  },
  {
   "cell_type": "code",
   "execution_count": null,
   "metadata": {},
   "outputs": [],
   "source": []
  },
  {
   "cell_type": "code",
   "execution_count": null,
   "metadata": {},
   "outputs": [],
   "source": []
  }
 ],
 "metadata": {
  "kernelspec": {
   "display_name": "Python 3",
   "language": "python",
   "name": "python3"
  },
  "language_info": {
   "codemirror_mode": {
    "name": "ipython",
    "version": 3
   },
   "file_extension": ".py",
   "mimetype": "text/x-python",
   "name": "python",
   "nbconvert_exporter": "python",
   "pygments_lexer": "ipython3",
   "version": "3.8.2"
  }
 },
 "nbformat": 4,
 "nbformat_minor": 2
}
