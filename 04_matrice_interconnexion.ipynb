{
 "cells": [
  {
   "cell_type": "code",
   "execution_count": 1,
   "metadata": {},
   "outputs": [],
   "source": [
    "from IPython.core.display import display, HTML\n",
    "display(HTML(\"<style>.container { width:100% !important; }</style>\"))"
   ]
  },
  {
   "cell_type": "code",
   "execution_count": 2,
   "metadata": {},
   "outputs": [],
   "source": [
    "import sys\n",
    "import sympy as sy\n",
    "#sys.path.append('/home/victorw/anaconda/envs/dev_pyphs/workspace/lib_pyphs_dev/')\n",
    "import pyphs\n",
    "\n",
    "PPTY_PHY_PARAMS = {\"positive\": True, \"real\" : True }\n",
    "PPTY_STATE_VAR  = {\"real\" : True }"
   ]
  },
  {
   "cell_type": "code",
   "execution_count": 3,
   "metadata": {},
   "outputs": [],
   "source": [
    "N = 2  # Nombre de tronçons\n",
    "Nxi = 5        # Nombre d'état par tronçon\n",
    "N_lambda = N-1 # Nombre de contraintes\n",
    "Nx = N * Nxi     # Nombre total d'état"
   ]
  },
  {
   "cell_type": "code",
   "execution_count": 4,
   "metadata": {},
   "outputs": [],
   "source": [
    "nuL_vec    = sy.symbols('nu_L1:{}'.format(N+1), **PPTY_STATE_VAR)\n",
    "nuR_vec    = sy.symbols('nu_R1:{}'.format(N+1), **PPTY_STATE_VAR)\n",
    "Pi_y_vec   = sy.symbols('Pi_y1:{}'.format(N+1), **PPTY_STATE_VAR)\n",
    "rho_vec    = sy.symbols('rho_1:{}'.format(N+1), **PPTY_PHY_PARAMS)\n",
    "vol_vec    = sy.symbols('V_1:{}'.format(N+1), **PPTY_STATE_VAR)"
   ]
  },
  {
   "cell_type": "code",
   "execution_count": 5,
   "metadata": {
    "scrolled": true
   },
   "outputs": [],
   "source": [
    "# Définition: accesseurs pour être en accord avec les notations des documents\n",
    "def nuL(i):\n",
    "    return nuL_vec[i-1]\n",
    "def nuR(i):\n",
    "    return nuR_vec[i-1]\n",
    "def Piy(i):\n",
    "    return Pi_y_vec[i-1]\n",
    "def rho(i):\n",
    "    return rho_vec[i-1]\n",
    "def vol(i):\n",
    "    return vol_vec[i-1]"
   ]
  },
  {
   "cell_type": "code",
   "execution_count": null,
   "metadata": {},
   "outputs": [],
   "source": []
  },
  {
   "cell_type": "markdown",
   "metadata": {},
   "source": [
    "## Construire la matrice d'interconnexion pour un tronçon"
   ]
  },
  {
   "cell_type": "code",
   "execution_count": 6,
   "metadata": {},
   "outputs": [
    {
     "data": {
      "text/latex": [
       "$\\displaystyle \\left[\\begin{matrix}0 & 0 & - \\frac{\\Pi_{y2}}{V_{2} \\rho_{2}} & 0 & - \\frac{1}{V_{2}}\\\\0 & 0 & \\frac{\\Pi_{y2}}{V_{2} \\rho_{2}} & 0 & \\frac{1}{V_{2}}\\\\\\frac{\\Pi_{y2}}{V_{2} \\rho_{2}} & - \\frac{\\Pi_{y2}}{V_{2} \\rho_{2}} & 0 & - L_{2} \\ell_{2} & \\frac{L_{2} \\ell_{2} \\rho_{2}}{V_{2}}\\\\0 & 0 & L_{2} \\ell_{2} & 0 & 0\\\\\\frac{1}{V_{2}} & - \\frac{1}{V_{2}} & - \\frac{L_{2} \\ell_{2} \\rho_{2}}{V_{2}} & 0 & 0\\end{matrix}\\right]$"
      ],
      "text/plain": [
       "Matrix([\n",
       "[                0,                  0,   -Pi_y2/(V_2*rho_2),          0,              -1/V_2],\n",
       "[                0,                  0,    Pi_y2/(V_2*rho_2),          0,               1/V_2],\n",
       "[Pi_y2/(V_2*rho_2), -Pi_y2/(V_2*rho_2),                    0, -L_2*ell_2, L_2*ell_2*rho_2/V_2],\n",
       "[                0,                  0,            L_2*ell_2,          0,                   0],\n",
       "[            1/V_2,             -1/V_2, -L_2*ell_2*rho_2/V_2,          0,                   0]])"
      ]
     },
     "execution_count": 6,
     "metadata": {},
     "output_type": "execute_result"
    }
   ],
   "source": [
    "def Ji(i):\n",
    "    # INIT\n",
    "    Nxi = 5\n",
    "    Ji  = sy.zeros(5)\n",
    "    ell = sy.symbols('ell_{}'.format(i), **PPTY_PHY_PARAMS)\n",
    "    L   = sy.symbols('L_{}'.format(i),   **PPTY_PHY_PARAMS)\n",
    "    Sw  =  ell * L\n",
    "\n",
    "    Ji[0,2] = -Piy(i)/(rho(i)*vol(i))\n",
    "    Ji[0,4] = -1/vol(i)\n",
    "    Ji[1,4] = 1/vol(i)\n",
    "    Ji[1,2] = Piy(i)/(rho(i)*vol(i))\n",
    "    Ji[2,3] = -Sw\n",
    "    Ji[2,4] = Sw*rho(i)/vol(i)\n",
    "    \n",
    "    # Antisymétrie\n",
    "    Ji = Ji -Ji.T\n",
    "    \n",
    "    return Ji\n",
    "\n",
    "Ji(2)"
   ]
  },
  {
   "cell_type": "code",
   "execution_count": 7,
   "metadata": {},
   "outputs": [
    {
     "data": {
      "text/latex": [
       "$\\displaystyle \\left[\\begin{matrix}0 & 0 & - \\frac{\\Pi_{y1}}{V_{1} \\rho_{1}} & 0 & - \\frac{1}{V_{1}} & 0 & 0 & 0 & 0 & 0\\\\0 & 0 & \\frac{\\Pi_{y1}}{V_{1} \\rho_{1}} & 0 & \\frac{1}{V_{1}} & 0 & 0 & 0 & 0 & 0\\\\\\frac{\\Pi_{y1}}{V_{1} \\rho_{1}} & - \\frac{\\Pi_{y1}}{V_{1} \\rho_{1}} & 0 & - L_{1} \\ell_{1} & \\frac{L_{1} \\ell_{1} \\rho_{1}}{V_{1}} & 0 & 0 & 0 & 0 & 0\\\\0 & 0 & L_{1} \\ell_{1} & 0 & 0 & 0 & 0 & 0 & 0 & 0\\\\\\frac{1}{V_{1}} & - \\frac{1}{V_{1}} & - \\frac{L_{1} \\ell_{1} \\rho_{1}}{V_{1}} & 0 & 0 & 0 & 0 & 0 & 0 & 0\\\\0 & 0 & 0 & 0 & 0 & 0 & 0 & - \\frac{\\Pi_{y2}}{V_{2} \\rho_{2}} & 0 & - \\frac{1}{V_{2}}\\\\0 & 0 & 0 & 0 & 0 & 0 & 0 & \\frac{\\Pi_{y2}}{V_{2} \\rho_{2}} & 0 & \\frac{1}{V_{2}}\\\\0 & 0 & 0 & 0 & 0 & \\frac{\\Pi_{y2}}{V_{2} \\rho_{2}} & - \\frac{\\Pi_{y2}}{V_{2} \\rho_{2}} & 0 & - L_{2} \\ell_{2} & \\frac{L_{2} \\ell_{2} \\rho_{2}}{V_{2}}\\\\0 & 0 & 0 & 0 & 0 & 0 & 0 & L_{2} \\ell_{2} & 0 & 0\\\\0 & 0 & 0 & 0 & 0 & \\frac{1}{V_{2}} & - \\frac{1}{V_{2}} & - \\frac{L_{2} \\ell_{2} \\rho_{2}}{V_{2}} & 0 & 0\\end{matrix}\\right]$"
      ],
      "text/plain": [
       "Matrix([\n",
       "[                0,                  0,   -Pi_y1/(V_1*rho_1),          0,              -1/V_1,                 0,                  0,                    0,          0,                   0],\n",
       "[                0,                  0,    Pi_y1/(V_1*rho_1),          0,               1/V_1,                 0,                  0,                    0,          0,                   0],\n",
       "[Pi_y1/(V_1*rho_1), -Pi_y1/(V_1*rho_1),                    0, -L_1*ell_1, L_1*ell_1*rho_1/V_1,                 0,                  0,                    0,          0,                   0],\n",
       "[                0,                  0,            L_1*ell_1,          0,                   0,                 0,                  0,                    0,          0,                   0],\n",
       "[            1/V_1,             -1/V_1, -L_1*ell_1*rho_1/V_1,          0,                   0,                 0,                  0,                    0,          0,                   0],\n",
       "[                0,                  0,                    0,          0,                   0,                 0,                  0,   -Pi_y2/(V_2*rho_2),          0,              -1/V_2],\n",
       "[                0,                  0,                    0,          0,                   0,                 0,                  0,    Pi_y2/(V_2*rho_2),          0,               1/V_2],\n",
       "[                0,                  0,                    0,          0,                   0, Pi_y2/(V_2*rho_2), -Pi_y2/(V_2*rho_2),                    0, -L_2*ell_2, L_2*ell_2*rho_2/V_2],\n",
       "[                0,                  0,                    0,          0,                   0,                 0,                  0,            L_2*ell_2,          0,                   0],\n",
       "[                0,                  0,                    0,          0,                   0,             1/V_2,             -1/V_2, -L_2*ell_2*rho_2/V_2,          0,                   0]])"
      ]
     },
     "execution_count": 7,
     "metadata": {},
     "output_type": "execute_result"
    }
   ],
   "source": [
    "# On assemble le J complet, on on a pas permuté les lignes/colonnes\n",
    "J = sy.SparseMatrix(sy.zeros(Nx))\n",
    "\n",
    "for i in range(N):\n",
    "    J[Nxi*i:Nxi*(i+1), Nxi*i:Nxi*(i+1)] = Ji(i+1)\n",
    "\n",
    "J"
   ]
  },
  {
   "cell_type": "markdown",
   "metadata": {},
   "source": [
    "## Permutation\n",
    "Étant donné un vecteur d'états concaténés $X = [ X_1, X_2, \\ldots, X_N]$, on veut permuter les états pour avoir la forme \n",
    "$$\n",
    "X = [\\nu_{L1}, \\vec{\\nu}, \\nu_{RN}, \\vec{\\Pi}_y,  \\vec{vol}, \\vec{\\rho}]\n",
    "$$\n"
   ]
  },
  {
   "cell_type": "code",
   "execution_count": 8,
   "metadata": {},
   "outputs": [
    {
     "data": {
      "text/latex": [
       "$\\displaystyle \\left[\\begin{matrix}\\nu_{L1} & \\nu_{R1} & \\Pi_{y1} & V_{1} & \\rho_{1} & \\nu_{L2} & \\nu_{R2} & \\Pi_{y2} & V_{2} & \\rho_{2}\\end{matrix}\\right]$"
      ],
      "text/plain": [
       "Matrix([[nu_L1, nu_R1, Pi_y1, V_1, rho_1, nu_L2, nu_R2, Pi_y2, V_2, rho_2]])"
      ]
     },
     "execution_count": 8,
     "metadata": {},
     "output_type": "execute_result"
    }
   ],
   "source": [
    "X = sy.zeros(Nx, 1)\n",
    "for i in range(N):\n",
    "    Xi = sy.Matrix([nuL(i+1), nuR(i+1), Piy(i+1), vol(i+1), rho(i+1)])\n",
    "    X[Nxi*i:Nxi*(i+1),0] = Xi\n",
    "X.T"
   ]
  },
  {
   "cell_type": "markdown",
   "metadata": {},
   "source": [
    "On implémente une matrice de permutation générale pour $N$ tronçons"
   ]
  },
  {
   "cell_type": "code",
   "execution_count": 9,
   "metadata": {
    "scrolled": false
   },
   "outputs": [
    {
     "data": {
      "text/latex": [
       "$\\displaystyle \\left[\\begin{matrix}1 & 0 & 0 & 0 & 0 & 0 & 0 & 0 & 0 & 0\\\\0 & 1 & 0 & 0 & 0 & 0 & 0 & 0 & 0 & 0\\\\0 & 0 & 0 & 0 & 0 & 1 & 0 & 0 & 0 & 0\\\\0 & 0 & 0 & 0 & 0 & 0 & 1 & 0 & 0 & 0\\\\0 & 0 & 1 & 0 & 0 & 0 & 0 & 0 & 0 & 0\\\\0 & 0 & 0 & 0 & 0 & 0 & 0 & 1 & 0 & 0\\\\0 & 0 & 0 & 1 & 0 & 0 & 0 & 0 & 0 & 0\\\\0 & 0 & 0 & 0 & 0 & 0 & 0 & 0 & 1 & 0\\\\0 & 0 & 0 & 0 & 1 & 0 & 0 & 0 & 0 & 0\\\\0 & 0 & 0 & 0 & 0 & 0 & 0 & 0 & 0 & 1\\end{matrix}\\right]$"
      ],
      "text/plain": [
       "Matrix([\n",
       "[1, 0, 0, 0, 0, 0, 0, 0, 0, 0],\n",
       "[0, 1, 0, 0, 0, 0, 0, 0, 0, 0],\n",
       "[0, 0, 0, 0, 0, 1, 0, 0, 0, 0],\n",
       "[0, 0, 0, 0, 0, 0, 1, 0, 0, 0],\n",
       "[0, 0, 1, 0, 0, 0, 0, 0, 0, 0],\n",
       "[0, 0, 0, 0, 0, 0, 0, 1, 0, 0],\n",
       "[0, 0, 0, 1, 0, 0, 0, 0, 0, 0],\n",
       "[0, 0, 0, 0, 0, 0, 0, 0, 1, 0],\n",
       "[0, 0, 0, 0, 1, 0, 0, 0, 0, 0],\n",
       "[0, 0, 0, 0, 0, 0, 0, 0, 0, 1]])"
      ]
     },
     "execution_count": 9,
     "metadata": {},
     "output_type": "execute_result"
    }
   ],
   "source": [
    "P = sy.SparseMatrix(sy.zeros(Nx))\n",
    "\n",
    "for i in range(N):\n",
    "    # nu_L/ nu_R\n",
    "    P[2*i, Nxi*i]         = 1\n",
    "    P[2*i+1, Nxi*i+1]     = 1\n",
    "    # Piy\n",
    "    P[2*N+i, Nxi*i+2] = 1\n",
    "    # rho\n",
    "    P[3*N+i, Nxi*i+3] = 1\n",
    "    # vol\n",
    "    P[4*N+i, Nxi*i+4] = 1\n",
    "\n",
    "P"
   ]
  },
  {
   "cell_type": "code",
   "execution_count": 10,
   "metadata": {},
   "outputs": [
    {
     "data": {
      "text/latex": [
       "$\\displaystyle \\left[\\begin{matrix}\\nu_{L1} & \\nu_{R1} & \\nu_{L2} & \\nu_{R2} & \\Pi_{y1} & \\Pi_{y2} & V_{1} & V_{2} & \\rho_{1} & \\rho_{2}\\end{matrix}\\right]$"
      ],
      "text/plain": [
       "Matrix([[nu_L1, nu_R1, nu_L2, nu_R2, Pi_y1, Pi_y2, V_1, V_2, rho_1, rho_2]])"
      ]
     },
     "execution_count": 10,
     "metadata": {},
     "output_type": "execute_result"
    }
   ],
   "source": [
    "X2 = P*X\n",
    "X2.T"
   ]
  },
  {
   "cell_type": "code",
   "execution_count": 11,
   "metadata": {},
   "outputs": [
    {
     "data": {
      "text/latex": [
       "$\\displaystyle \\left[\\begin{matrix}0 & 0 & 0 & 0 & - \\frac{\\Pi_{y1}}{V_{1} \\rho_{1}} & 0 & 0 & 0 & - \\frac{1}{V_{1}} & 0\\\\0 & 0 & 0 & 0 & \\frac{\\Pi_{y1}}{V_{1} \\rho_{1}} & 0 & 0 & 0 & \\frac{1}{V_{1}} & 0\\\\0 & 0 & 0 & 0 & 0 & - \\frac{\\Pi_{y2}}{V_{2} \\rho_{2}} & 0 & 0 & 0 & - \\frac{1}{V_{2}}\\\\0 & 0 & 0 & 0 & 0 & \\frac{\\Pi_{y2}}{V_{2} \\rho_{2}} & 0 & 0 & 0 & \\frac{1}{V_{2}}\\\\\\frac{\\Pi_{y1}}{V_{1} \\rho_{1}} & - \\frac{\\Pi_{y1}}{V_{1} \\rho_{1}} & 0 & 0 & 0 & 0 & - L_{1} \\ell_{1} & 0 & \\frac{L_{1} \\ell_{1} \\rho_{1}}{V_{1}} & 0\\\\0 & 0 & \\frac{\\Pi_{y2}}{V_{2} \\rho_{2}} & - \\frac{\\Pi_{y2}}{V_{2} \\rho_{2}} & 0 & 0 & 0 & - L_{2} \\ell_{2} & 0 & \\frac{L_{2} \\ell_{2} \\rho_{2}}{V_{2}}\\\\0 & 0 & 0 & 0 & L_{1} \\ell_{1} & 0 & 0 & 0 & 0 & 0\\\\0 & 0 & 0 & 0 & 0 & L_{2} \\ell_{2} & 0 & 0 & 0 & 0\\\\\\frac{1}{V_{1}} & - \\frac{1}{V_{1}} & 0 & 0 & - \\frac{L_{1} \\ell_{1} \\rho_{1}}{V_{1}} & 0 & 0 & 0 & 0 & 0\\\\0 & 0 & \\frac{1}{V_{2}} & - \\frac{1}{V_{2}} & 0 & - \\frac{L_{2} \\ell_{2} \\rho_{2}}{V_{2}} & 0 & 0 & 0 & 0\\end{matrix}\\right]$"
      ],
      "text/plain": [
       "Matrix([\n",
       "[                0,                  0,                 0,                  0,   -Pi_y1/(V_1*rho_1),                    0,          0,          0,              -1/V_1,                   0],\n",
       "[                0,                  0,                 0,                  0,    Pi_y1/(V_1*rho_1),                    0,          0,          0,               1/V_1,                   0],\n",
       "[                0,                  0,                 0,                  0,                    0,   -Pi_y2/(V_2*rho_2),          0,          0,                   0,              -1/V_2],\n",
       "[                0,                  0,                 0,                  0,                    0,    Pi_y2/(V_2*rho_2),          0,          0,                   0,               1/V_2],\n",
       "[Pi_y1/(V_1*rho_1), -Pi_y1/(V_1*rho_1),                 0,                  0,                    0,                    0, -L_1*ell_1,          0, L_1*ell_1*rho_1/V_1,                   0],\n",
       "[                0,                  0, Pi_y2/(V_2*rho_2), -Pi_y2/(V_2*rho_2),                    0,                    0,          0, -L_2*ell_2,                   0, L_2*ell_2*rho_2/V_2],\n",
       "[                0,                  0,                 0,                  0,            L_1*ell_1,                    0,          0,          0,                   0,                   0],\n",
       "[                0,                  0,                 0,                  0,                    0,            L_2*ell_2,          0,          0,                   0,                   0],\n",
       "[            1/V_1,             -1/V_1,                 0,                  0, -L_1*ell_1*rho_1/V_1,                    0,          0,          0,                   0,                   0],\n",
       "[                0,                  0,             1/V_2,             -1/V_2,                    0, -L_2*ell_2*rho_2/V_2,          0,          0,                   0,                   0]])"
      ]
     },
     "metadata": {},
     "output_type": "display_data"
    }
   ],
   "source": [
    "J2 = P*J*P.T\n",
    "display(J2)"
   ]
  },
  {
   "cell_type": "markdown",
   "metadata": {},
   "source": [
    "## Appliquer le changement de variable\n",
    "voir notebook 01"
   ]
  },
  {
   "cell_type": "code",
   "execution_count": 12,
   "metadata": {},
   "outputs": [],
   "source": [
    "bT = sy.zeros(N_lambda, Nx)\n",
    "for i in range(N_lambda):\n",
    "    bT[i, 1+2*i] = 1 \n",
    "    bT[i, 2+i*2] = -1\n",
    "b = bT.T\n",
    "\n",
    "annul_b = sy.zeros(Nx-N_lambda,Nx)\n",
    "\n",
    "annul_b[0,0] = 1\n",
    "annul_b[N::, N + N_lambda::] = sy.eye(3*N+1)\n",
    "for i in range(1,N_lambda+1):\n",
    "    annul_b[i, 2*i-1] = 1 \n",
    "    annul_b[i, 2*i] = 1\n",
    "    \n",
    "M = sy.zeros(Nx, Nx)\n",
    "M[0:Nx-N_lambda,::] = annul_b\n",
    "M[Nx-N_lambda::, ::] = (bT*b).inv()*bT"
   ]
  },
  {
   "cell_type": "code",
   "execution_count": 13,
   "metadata": {},
   "outputs": [
    {
     "data": {
      "text/latex": [
       "$\\displaystyle \\left[\\begin{matrix}0 & 0 & 0 & - \\frac{\\Pi_{y1}}{V_{1} \\rho_{1}} & 0 & 0 & 0 & - \\frac{1}{V_{1}} & 0 & 0\\\\0 & 0 & 0 & \\frac{\\Pi_{y1}}{V_{1} \\rho_{1}} & - \\frac{\\Pi_{y2}}{V_{2} \\rho_{2}} & 0 & 0 & \\frac{1}{V_{1}} & - \\frac{1}{V_{2}} & 0\\\\0 & 0 & 0 & 0 & \\frac{\\Pi_{y2}}{V_{2} \\rho_{2}} & 0 & 0 & 0 & \\frac{1}{V_{2}} & 0\\\\\\frac{\\Pi_{y1}}{V_{1} \\rho_{1}} & - \\frac{\\Pi_{y1}}{V_{1} \\rho_{1}} & 0 & 0 & 0 & - L_{1} \\ell_{1} & 0 & \\frac{L_{1} \\ell_{1} \\rho_{1}}{V_{1}} & 0 & - \\frac{\\Pi_{y1}}{2 V_{1} \\rho_{1}}\\\\0 & \\frac{\\Pi_{y2}}{V_{2} \\rho_{2}} & - \\frac{\\Pi_{y2}}{V_{2} \\rho_{2}} & 0 & 0 & 0 & - L_{2} \\ell_{2} & 0 & \\frac{L_{2} \\ell_{2} \\rho_{2}}{V_{2}} & - \\frac{\\Pi_{y2}}{2 V_{2} \\rho_{2}}\\\\0 & 0 & 0 & L_{1} \\ell_{1} & 0 & 0 & 0 & 0 & 0 & 0\\\\0 & 0 & 0 & 0 & L_{2} \\ell_{2} & 0 & 0 & 0 & 0 & 0\\\\\\frac{1}{V_{1}} & - \\frac{1}{V_{1}} & 0 & - \\frac{L_{1} \\ell_{1} \\rho_{1}}{V_{1}} & 0 & 0 & 0 & 0 & 0 & - \\frac{1}{2 V_{1}}\\\\0 & \\frac{1}{V_{2}} & - \\frac{1}{V_{2}} & 0 & - \\frac{L_{2} \\ell_{2} \\rho_{2}}{V_{2}} & 0 & 0 & 0 & 0 & - \\frac{1}{2 V_{2}}\\\\0 & 0 & 0 & \\frac{\\Pi_{y1}}{2 V_{1} \\rho_{1}} & \\frac{\\Pi_{y2}}{2 V_{2} \\rho_{2}} & 0 & 0 & \\frac{1}{2 V_{1}} & \\frac{1}{2 V_{2}} & 0\\end{matrix}\\right]$"
      ],
      "text/plain": [
       "Matrix([\n",
       "[                0,                  0,                  0,   -Pi_y1/(V_1*rho_1),                    0,          0,          0,              -1/V_1,                   0,                    0],\n",
       "[                0,                  0,                  0,    Pi_y1/(V_1*rho_1),   -Pi_y2/(V_2*rho_2),          0,          0,               1/V_1,              -1/V_2,                    0],\n",
       "[                0,                  0,                  0,                    0,    Pi_y2/(V_2*rho_2),          0,          0,                   0,               1/V_2,                    0],\n",
       "[Pi_y1/(V_1*rho_1), -Pi_y1/(V_1*rho_1),                  0,                    0,                    0, -L_1*ell_1,          0, L_1*ell_1*rho_1/V_1,                   0, -Pi_y1/(2*V_1*rho_1)],\n",
       "[                0,  Pi_y2/(V_2*rho_2), -Pi_y2/(V_2*rho_2),                    0,                    0,          0, -L_2*ell_2,                   0, L_2*ell_2*rho_2/V_2, -Pi_y2/(2*V_2*rho_2)],\n",
       "[                0,                  0,                  0,            L_1*ell_1,                    0,          0,          0,                   0,                   0,                    0],\n",
       "[                0,                  0,                  0,                    0,            L_2*ell_2,          0,          0,                   0,                   0,                    0],\n",
       "[            1/V_1,             -1/V_1,                  0, -L_1*ell_1*rho_1/V_1,                    0,          0,          0,                   0,                   0,           -1/(2*V_1)],\n",
       "[                0,              1/V_2,             -1/V_2,                    0, -L_2*ell_2*rho_2/V_2,          0,          0,                   0,                   0,           -1/(2*V_2)],\n",
       "[                0,                  0,                  0,  Pi_y1/(2*V_1*rho_1),  Pi_y2/(2*V_2*rho_2),          0,          0,           1/(2*V_1),           1/(2*V_2),                    0]])"
      ]
     },
     "metadata": {},
     "output_type": "display_data"
    }
   ],
   "source": [
    "J_cons = M*J2*M.T\n",
    "display(J_cons)"
   ]
  },
  {
   "cell_type": "code",
   "execution_count": 14,
   "metadata": {},
   "outputs": [],
   "source": [
    "J_cons_11 = J_cons[0:Nx-N_lambda-1, 0:Nx-N_lambda-1]"
   ]
  },
  {
   "cell_type": "code",
   "execution_count": 15,
   "metadata": {},
   "outputs": [
    {
     "data": {
      "text/latex": [
       "$\\displaystyle \\left[\\begin{matrix}0 & 0 & 0 & - \\frac{\\Pi_{y1}}{V_{1} \\rho_{1}} & 0 & 0 & 0 & - \\frac{1}{V_{1}}\\\\0 & 0 & 0 & \\frac{\\Pi_{y1}}{V_{1} \\rho_{1}} & - \\frac{\\Pi_{y2}}{V_{2} \\rho_{2}} & 0 & 0 & \\frac{1}{V_{1}}\\\\0 & 0 & 0 & 0 & \\frac{\\Pi_{y2}}{V_{2} \\rho_{2}} & 0 & 0 & 0\\\\\\frac{\\Pi_{y1}}{V_{1} \\rho_{1}} & - \\frac{\\Pi_{y1}}{V_{1} \\rho_{1}} & 0 & 0 & 0 & - L_{1} \\ell_{1} & 0 & \\frac{L_{1} \\ell_{1} \\rho_{1}}{V_{1}}\\\\0 & \\frac{\\Pi_{y2}}{V_{2} \\rho_{2}} & - \\frac{\\Pi_{y2}}{V_{2} \\rho_{2}} & 0 & 0 & 0 & - L_{2} \\ell_{2} & 0\\\\0 & 0 & 0 & L_{1} \\ell_{1} & 0 & 0 & 0 & 0\\\\0 & 0 & 0 & 0 & L_{2} \\ell_{2} & 0 & 0 & 0\\\\\\frac{1}{V_{1}} & - \\frac{1}{V_{1}} & 0 & - \\frac{L_{1} \\ell_{1} \\rho_{1}}{V_{1}} & 0 & 0 & 0 & 0\\end{matrix}\\right]$"
      ],
      "text/plain": [
       "Matrix([\n",
       "[                0,                  0,                  0,   -Pi_y1/(V_1*rho_1),                  0,          0,          0,              -1/V_1],\n",
       "[                0,                  0,                  0,    Pi_y1/(V_1*rho_1), -Pi_y2/(V_2*rho_2),          0,          0,               1/V_1],\n",
       "[                0,                  0,                  0,                    0,  Pi_y2/(V_2*rho_2),          0,          0,                   0],\n",
       "[Pi_y1/(V_1*rho_1), -Pi_y1/(V_1*rho_1),                  0,                    0,                  0, -L_1*ell_1,          0, L_1*ell_1*rho_1/V_1],\n",
       "[                0,  Pi_y2/(V_2*rho_2), -Pi_y2/(V_2*rho_2),                    0,                  0,          0, -L_2*ell_2,                   0],\n",
       "[                0,                  0,                  0,            L_1*ell_1,                  0,          0,          0,                   0],\n",
       "[                0,                  0,                  0,                    0,          L_2*ell_2,          0,          0,                   0],\n",
       "[            1/V_1,             -1/V_1,                  0, -L_1*ell_1*rho_1/V_1,                  0,          0,          0,                   0]])"
      ]
     },
     "execution_count": 15,
     "metadata": {},
     "output_type": "execute_result"
    }
   ],
   "source": [
    "J_cons_11"
   ]
  },
  {
   "cell_type": "markdown",
   "metadata": {},
   "source": [
    "## Autres matrices\n",
    "$J_{yy}$ est remplie de 0. $J_{xy}$ est assez facile à coder: 1 port à gauche, 1 port à droite; un port par paroi soit N ports. Au total, $N+2$ ports soit:\n",
    "$$\n",
    "Y = \\left[\\begin{array}{c}\n",
    " -q_L \\\\\n",
    " q_R \\\\\n",
    " -v_{w1} \\\\\n",
    " \\vdots \\\\\n",
    " -v_{wN}\n",
    " \\end{array}\\right]\n",
    "$$"
   ]
  },
  {
   "cell_type": "code",
   "execution_count": 28,
   "metadata": {},
   "outputs": [
    {
     "data": {
      "text/latex": [
       "$\\displaystyle \\left[\\begin{matrix}-1 & 0 & 0 & 0 & 0 & 0 & 0 & 0 & 0 & 0\\\\0 & 0 & 0 & 1 & 0 & 0 & 0 & 0 & 0 & 0\\\\0 & 0 & 0 & 0 & -1 & 0 & 0 & 0 & 0 & 0\\\\0 & 0 & 0 & 0 & 0 & -1 & 0 & 0 & 0 & 0\\end{matrix}\\right]$"
      ],
      "text/plain": [
       "Matrix([\n",
       "[-1, 0, 0, 0,  0,  0, 0, 0, 0, 0],\n",
       "[ 0, 0, 0, 1,  0,  0, 0, 0, 0, 0],\n",
       "[ 0, 0, 0, 0, -1,  0, 0, 0, 0, 0],\n",
       "[ 0, 0, 0, 0,  0, -1, 0, 0, 0, 0]])"
      ]
     },
     "execution_count": 28,
     "metadata": {},
     "output_type": "execute_result"
    }
   ],
   "source": [
    "Jyx = sy.SparseMatrix(sy.zeros(N+2, Nx))\n",
    "Jyx[0,0] = -1\n",
    "Jyx[1, 2*N-1] = 1\n",
    "Jyx[2::,2*N:3*N] = - sy.eye(N)\n",
    "Jyx"
   ]
  }
 ],
 "metadata": {
  "kernelspec": {
   "display_name": "Python 3",
   "language": "python",
   "name": "python3"
  },
  "language_info": {
   "codemirror_mode": {
    "name": "ipython",
    "version": 3
   },
   "file_extension": ".py",
   "mimetype": "text/x-python",
   "name": "python",
   "nbconvert_exporter": "python",
   "pygments_lexer": "ipython3",
   "version": "3.8.2"
  }
 },
 "nbformat": 4,
 "nbformat_minor": 4
}
