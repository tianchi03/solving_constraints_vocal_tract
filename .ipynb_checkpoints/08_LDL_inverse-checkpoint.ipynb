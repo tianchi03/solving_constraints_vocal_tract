{
 "cells": [
  {
   "cell_type": "code",
   "execution_count": 76,
   "metadata": {},
   "outputs": [
    {
     "data": {
      "text/html": [
       "<style>.container { width:100% !important; }</style>"
      ],
      "text/plain": [
       "<IPython.core.display.HTML object>"
      ]
     },
     "metadata": {},
     "output_type": "display_data"
    }
   ],
   "source": [
    "from IPython.core.display import display, HTML\n",
    "display(HTML(\"<style>.container { width:100% !important; }</style>\"))\n",
    "import sys\n",
    "import sympy as sy\n",
    "import pyphs\n",
    "import time\n",
    "import datetime\n",
    "import numpy as np\n",
    "import matplotlib.pyplot as plt\n",
    "\n",
    "PPTY_PHY_PARAMS = {\"positive\": True, \"real\" : True }\n",
    "PPTY_STATE_VAR  = {\"real\" : True }\n",
    "\n",
    "from LDL_solve import *\n",
    "\n",
    "fcancel = lambda x: x.cancel()\n",
    "\n",
    "\n",
    "class Timer(object):\n",
    "    \"\"\" \n",
    "    Allows one to time a particular set of actions.\n",
    "    \n",
    "    Example:\n",
    "    ```(Python)\n",
    "        with Timer('foo_stuff'):\n",
    "           # do some foo\n",
    "           # do some stuff\n",
    "    ```\n",
    "    \n",
    "    Credit: Eli Bendersky\n",
    "    https://stackoverflow.com/questions/5849800/what-is-the-python-equivalent-of-matlabs-tic-and-toc-functions\n",
    "    \"\"\"\n",
    "    def __init__(self, name=None):\n",
    "        self.name = name\n",
    "\n",
    "    def __enter__(self):\n",
    "        self.tstart = time.time()\n",
    "        currentDT = datetime.datetime.now()\n",
    "        print('Start: ' + str(currentDT))\n",
    "\n",
    "    def __exit__(self, type, value, traceback):\n",
    "        if self.name:\n",
    "            print('[%s]' % self.name,)\n",
    "        print('Elapsed: {:4.2f} sec'.format(time.time() - self.tstart))"
   ]
  },
  {
   "cell_type": "markdown",
   "metadata": {},
   "source": [
    "## Création de la matrice test"
   ]
  },
  {
   "cell_type": "code",
   "execution_count": 73,
   "metadata": {},
   "outputs": [
    {
     "data": {
      "text/latex": [
       "$\\displaystyle \\left[\\begin{matrix}q_{11} & q_{12} & 0 & 0 & 0\\\\q_{12} & q_{22} & q_{23} & 0 & 0\\\\0 & q_{23} & q_{33} & q_{34} & 0\\\\0 & 0 & q_{34} & q_{44} & q_{45}\\\\0 & 0 & 0 & q_{45} & q_{55}\\end{matrix}\\right]$"
      ],
      "text/plain": [
       "Matrix([\n",
       "[q_11, q_12,    0,    0,    0],\n",
       "[q_12, q_22, q_23,    0,    0],\n",
       "[   0, q_23, q_33, q_34,    0],\n",
       "[   0,    0, q_34, q_44, q_45],\n",
       "[   0,    0,    0, q_45, q_55]])"
      ]
     },
     "execution_count": 73,
     "metadata": {},
     "output_type": "execute_result"
    }
   ],
   "source": [
    "dim = 5\n",
    "PPTY = {'real':True, 'positive':True}\n",
    "Q = sy.zeros(dim)\n",
    "# --- Construction de la matrice\n",
    "for i in range(dim):\n",
    "    label  = str(i+1) + str(i+1)\n",
    "    Q[i,i] = sy.symbols('q_' + label, **PPTY)\n",
    "    \n",
    "    label  = str(i+1) + str(i+2)\n",
    "    try:\n",
    "        Q[i,i+1] = sy.symbols('q_' + label, **PPTY)\n",
    "    except IndexError:\n",
    "            pass\n",
    "    label  = str(i) + str(i+1)\n",
    "\n",
    "    if i == 0:\n",
    "        continue\n",
    "    try:\n",
    "        Q[i,i-1] = sy.symbols('q_' + label, **PPTY)\n",
    "    except IndexError:\n",
    "        pass\n",
    "    \n",
    "\n",
    "Q = sy.SparseMatrix(Q)\n",
    "rhs = sy.eye(Q.rows)\n",
    "Q"
   ]
  },
  {
   "cell_type": "markdown",
   "metadata": {},
   "source": [
    "## Méthode sympy bruteforce"
   ]
  },
  {
   "cell_type": "code",
   "execution_count": 70,
   "metadata": {},
   "outputs": [
    {
     "name": "stdout",
     "output_type": "stream",
     "text": [
      "hehe\n",
      "[brute force]\n",
      "Elapsed: 1.53 sec\n"
     ]
    }
   ],
   "source": [
    "# Méthode brute force Sympy\n",
    "with Timer('brute force'):\n",
    "    Q_inv = Q.inv(method='LDL')\n",
    "    Q_inv = Q_inv.applyfunc(fcancel)\n",
    "    print('hehe')\n",
    "if dim < 4:\n",
    "    #display(Q_inv)\n",
    "    print('ehehe')"
   ]
  },
  {
   "cell_type": "markdown",
   "metadata": {},
   "source": [
    "## Méthode sympy avec simpification internes"
   ]
  },
  {
   "cell_type": "code",
   "execution_count": 74,
   "metadata": {},
   "outputs": [
    {
     "name": "stdout",
     "output_type": "stream",
     "text": [
      "[méthode afinée]\n",
      "Elapsed: 4.97 sec\n"
     ]
    }
   ],
   "source": [
    "with Timer('méthode afinée'):\n",
    "    res = LDL_solve(Q, rhs).applyfunc(fcancel)"
   ]
  },
  {
   "cell_type": "markdown",
   "metadata": {},
   "source": [
    "## Méthode alternative"
   ]
  },
  {
   "cell_type": "code",
   "execution_count": 75,
   "metadata": {},
   "outputs": [
    {
     "name": "stdout",
     "output_type": "stream",
     "text": [
      "hehe\n",
      "[Méthode fast]\n",
      "Elapsed: 13.64 sec\n"
     ]
    }
   ],
   "source": [
    "with Timer('Méthode fast'):\n",
    "    res2 = LDL_inv_fast(Q).applyfunc(fcancel)\n",
    "    print('hehe')"
   ]
  },
  {
   "cell_type": "markdown",
   "metadata": {},
   "source": [
    "## Vérification"
   ]
  },
  {
   "cell_type": "code",
   "execution_count": 71,
   "metadata": {},
   "outputs": [
    {
     "data": {
      "text/plain": [
       "True"
      ]
     },
     "execution_count": 71,
     "metadata": {},
     "output_type": "execute_result"
    }
   ],
   "source": [
    "Q_inv == res"
   ]
  },
  {
   "cell_type": "code",
   "execution_count": 72,
   "metadata": {},
   "outputs": [
    {
     "data": {
      "text/plain": [
       "True"
      ]
     },
     "execution_count": 72,
     "metadata": {},
     "output_type": "execute_result"
    }
   ],
   "source": [
    "Q_inv == res2"
   ]
  },
  {
   "cell_type": "markdown",
   "metadata": {},
   "source": [
    "## Résultats\n",
    "Il faut préciser que ces mesures ont une forte variance (~1 sec. max).\n",
    "On compare d'abord les performances sans simplifications après l'inversion. $N = 5$:\n",
    "    - Méthode 1: 0.11 sec\n",
    "    - Méthode 2: 4.13 sec\n",
    "    - Méthode 3: 0.17 sec\n",
    "    \n",
    "Donc sur le papier, la méthode 1 est la plus rapide. Rajoutons maintenant une étape de simplification pour rendre les équations: (i) lisibles; (ii) numériquement exploitables\n",
    "    - Méthode 1: 24.16 sec\n",
    "    - Méthode 2: 5.92 sec\n",
    "    - Méthode 3: 13.46 sec\n",
    "\n",
    "On voit maintenant que la méthode 1 (utilisation de la méthode sympy native) devient très coûteuse. La méthode 2 est simplement une version de la méthode 1 où les simplifications sont opérées à certains endroits stratégiques de la méthode. La méthode 3 est une variante où on exploite une certaine propriété. Cette dernière est plus rapide que la première, mais la méthode 2 est toujours plus rapide.\n",
    "\n",
    "## Méthode 2\n",
    "On chronomètre le temps d'inversion pour les dimensions suivantes:\n",
    "    - $N=2$: 0.03 sec\n",
    "    - $N=3$: 0.12 sec\n",
    "    - $N=4$: 0.81 sec\n",
    "    - $N=5$: 4.73 sec\n",
    "    - $N=6$: 33.26 sec\n",
    "    - $N=7$: 1139.79 sec (~19min)"
   ]
  },
  {
   "cell_type": "code",
   "execution_count": null,
   "metadata": {},
   "outputs": [],
   "source": []
  },
  {
   "cell_type": "code",
   "execution_count": 66,
   "metadata": {},
   "outputs": [
    {
     "data": {
      "text/plain": [
       "Text(0, 0.5, 'Temps (s)')"
      ]
     },
     "execution_count": 66,
     "metadata": {},
     "output_type": "execute_result"
    },
    {
     "data": {
      "image/png": "[encoded data removed]",
      "text/plain": [
       "<Figure size 432x288 with 1 Axes>"
      ]
     },
     "metadata": {
      "needs_background": "light"
     },
     "output_type": "display_data"
    }
   ],
   "source": [
    "tps = [0.03, 0.12, 0.81, 4.73, 33.26, 1139.79]\n",
    "N = [2, 3, 4, 5, 6, 7]\n",
    "plt.figure()\n",
    "plt.semilogy(N, tps, '-+')\n",
    "plt.grid()\n",
    "plt.xlabel('dim')\n",
    "plt.ylabel('Temps (s)')"
   ]
  },
  {
   "cell_type": "code",
   "execution_count": 59,
   "metadata": {},
   "outputs": [
    {
     "data": {
      "text/plain": [
       "array([0.47867832, 4.00063181])"
      ]
     },
     "execution_count": 59,
     "metadata": {},
     "output_type": "execute_result"
    }
   ],
   "source": [
    "\n"
   ]
  }
 ],
 "metadata": {
  "kernelspec": {
   "display_name": "Python 3",
   "language": "python",
   "name": "python3"
  },
  "language_info": {
   "codemirror_mode": {
    "name": "ipython",
    "version": 3
   },
   "file_extension": ".py",
   "mimetype": "text/x-python",
   "name": "python",
   "nbconvert_exporter": "python",
   "pygments_lexer": "ipython3",
   "version": "3.8.2"
  }
 },
 "nbformat": 4,
 "nbformat_minor": 2
}
