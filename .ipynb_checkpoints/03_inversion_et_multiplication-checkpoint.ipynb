{
 "cells": [
  {
   "cell_type": "code",
   "execution_count": null,
   "metadata": {},
   "outputs": [],
   "source": [
    "import sympy as sy\n",
    "import numpy as np\n",
    "from IPython.display import display\n",
    "PPTY_PHY_PARAMS = {\"positive\": True, \"real\" : True }\n",
    "PPTY_STATE_VAR  = {\"real\" : True }\n",
    "\n",
    "from IPython.core.display import display, HTML\n",
    "display(HTML(\"<style>.container { width:100% !important; }</style>\"))\n",
    "import time\n",
    "\n",
    "simp_func = lambda mat : mat.simplify()\n",
    "expd_func = lambda mat : mat.expand()\n",
    "canc_func = lambda mat : mat.cancel()\n",
    "\n",
    "class Timer(object):\n",
    "    \"\"\" \n",
    "    Allows one to time a particular set of actions.\n",
    "    \n",
    "    Example:\n",
    "    ```(Python)\n",
    "        with Timer('foo_stuff'):\n",
    "           # do some foo\n",
    "           # do some stuff\n",
    "    ```\n",
    "    \n",
    "    Credit: Eli Bendersky\n",
    "    https://stackoverflow.com/questions/5849800/what-is-the-python-equivalent-of-matlabs-tic-and-toc-functions\n",
    "    \"\"\"\n",
    "    def __init__(self, name=None):\n",
    "        self.name = name\n",
    "\n",
    "    def __enter__(self):\n",
    "        self.tstart = time.time()\n",
    "\n",
    "    def __exit__(self, type, value, traceback):\n",
    "        if self.name:\n",
    "            print('[%s]' % self.name,)\n",
    "        print('Elapsed: {:4.2f} sec'.format(time.time() - self.tstart))"
   ]
  },
  {
   "cell_type": "code",
   "execution_count": null,
   "metadata": {},
   "outputs": [],
   "source": [
    "N =  4         # Nombre de tronçons\n",
    "N_lambda = N-1 # Nombre de contraintes\n",
    "Nx = N * 5     # Nombre total d'état\n",
    "Nx\n",
    "\n",
    "mu_vec = sy.symbols('mu_1:{}'.format(N+1), **PPTY_PHY_PARAMS)\n",
    "for val in mu_vec:\n",
    "    display(val)"
   ]
  },
  {
   "cell_type": "code",
   "execution_count": null,
   "metadata": {},
   "outputs": [],
   "source": [
    "Q22 = sy.zeros(N_lambda)\n",
    "for i in range(N_lambda):\n",
    "    for j in range(N_lambda):\n",
    "        if i == j:\n",
    "            Q22[i, j] = mu_vec[i] + mu_vec[i+1]\n",
    "        if j == i-1:\n",
    "            Q22[i, j] = sy.Rational(1,2) * mu_vec[i]\n",
    "        if j == i+1:\n",
    "            Q22[i, j] = sy.Rational(1,2) * mu_vec[i+1]\n",
    "            \n",
    "display(Q22)"
   ]
  },
  {
   "cell_type": "code",
   "execution_count": null,
   "metadata": {},
   "outputs": [],
   "source": [
    "Q22 = sy.SparseMatrix(Q22) # important pour réduire la charge de calculs"
   ]
  },
  {
   "cell_type": "code",
   "execution_count": null,
   "metadata": {},
   "outputs": [],
   "source": [
    "with Timer('inverting Q22 sparse matrix'):\n",
    "    Q22inv = Q22.inv(method='LDL')\n",
    "    Q22Q12 = -Q12*Q22"
   ]
  },
  {
   "cell_type": "code",
   "execution_count": null,
   "metadata": {},
   "outputs": [],
   "source": [
    "L, D = Q22.LDLdecomposition()"
   ]
  },
  {
   "cell_type": "markdown",
   "metadata": {},
   "source": [
    "### $ D_2$"
   ]
  },
  {
   "cell_type": "code",
   "execution_count": null,
   "metadata": {},
   "outputs": [],
   "source": [
    "ind = 1\n",
    "D[ind,ind].cancel()"
   ]
  },
  {
   "cell_type": "code",
   "execution_count": null,
   "metadata": {},
   "outputs": [],
   "source": [
    "def sigma(n):\n",
    "    return mu_vec[n-1] + mu_vec[n]\n",
    "\n",
    "def mu(n):\n",
    "    return mu_vec[n-1]"
   ]
  },
  {
   "cell_type": "code",
   "execution_count": null,
   "metadata": {},
   "outputs": [],
   "source": [
    "D1 = (sigma(1) * sigma(2) - sy.Rational(1,4)*mu_vec[1]**2)/(sigma(1))\n",
    "display(D1.expand().cancel())"
   ]
  },
  {
   "cell_type": "code",
   "execution_count": null,
   "metadata": {},
   "outputs": [],
   "source": [
    "alpha = sy.Rational(1,4)"
   ]
  },
  {
   "cell_type": "markdown",
   "metadata": {},
   "source": [
    "### $ D_3$"
   ]
  },
  {
   "cell_type": "code",
   "execution_count": null,
   "metadata": {
    "scrolled": true
   },
   "outputs": [],
   "source": [
    "ind = 10\n",
    "with Timer('Cancelling'):\n",
    "    D[ind,ind] = D[ind,ind].cancel()"
   ]
  },
  {
   "cell_type": "code",
   "execution_count": null,
   "metadata": {},
   "outputs": [],
   "source": [
    "(sigma(1)*sigma(2)*sigma(3)-alpha*mu(2)**2*sigma(3) -alpha*mu(3)**2*sigma(1) ).expand().simplify()*4"
   ]
  },
  {
   "cell_type": "code",
   "execution_count": null,
   "metadata": {},
   "outputs": [],
   "source": []
  },
  {
   "cell_type": "markdown",
   "metadata": {},
   "source": [
    "## Multiplication avec $Q_{12}$"
   ]
  },
  {
   "cell_type": "code",
   "execution_count": null,
   "metadata": {},
   "outputs": [],
   "source": [
    "Q12 = sy.zeros(N_lambda, N+1)\n",
    "for i in range(N_lambda):\n",
    "    for j in range(N+1):\n",
    "        if i == j:\n",
    "            Q12[i, j] = -sy.Rational(1,2) * mu_vec[i]\n",
    "        if j == i+1:\n",
    "            Q12[i, j] = sy.Rational(1,2) * (mu_vec[i]-mu_vec[i+1])\n",
    "        if j == i+2:\n",
    "            Q12[i, j] = sy.Rational(1,2) * mu_vec[i+1]\n",
    "Q12 = sy.SparseMatrix(Q12)            \n",
    "display(Q12)"
   ]
  },
  {
   "cell_type": "code",
   "execution_count": null,
   "metadata": {},
   "outputs": [],
   "source": [
    "with Timer('Multiplicating Q_22^{-1} with Q_12 and reducing with vector'):\n",
    "    res = -Q22inv*Q12\n",
    "    out = res*sy.Matrix(sy.symbols('nu_{1:22}'))\n"
   ]
  },
  {
   "cell_type": "code",
   "execution_count": null,
   "metadata": {},
   "outputs": [],
   "source": [
    "out[0].free_symbols"
   ]
  }
 ],
 "metadata": {
  "kernelspec": {
   "display_name": "Python 3",
   "language": "python",
   "name": "python3"
  },
  "language_info": {
   "codemirror_mode": {
    "name": "ipython",
    "version": 3
   },
   "file_extension": ".py",
   "mimetype": "text/x-python",
   "name": "python",
   "nbconvert_exporter": "python",
   "pygments_lexer": "ipython3",
   "version": "3.8.2"
  }
 },
 "nbformat": 4,
 "nbformat_minor": 4
}
