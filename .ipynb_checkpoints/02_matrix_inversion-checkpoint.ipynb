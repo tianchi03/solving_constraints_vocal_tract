{
 "cells": [
  {
   "cell_type": "code",
   "execution_count": 1,
   "metadata": {},
   "outputs": [
    {
     "data": {
      "text/html": [
       "<style>.container { width:100% !important; }</style>"
      ],
      "text/plain": [
       "<IPython.core.display.HTML object>"
      ]
     },
     "metadata": {},
     "output_type": "display_data"
    }
   ],
   "source": [
    "import sympy as sy\n",
    "import numpy as np\n",
    "from IPython.display import display\n",
    "import sys\n",
    "sys.setrecursionlimit(100000)\n",
    "\n",
    "\n",
    "from IPython.core.display import display, HTML\n",
    "display(HTML(\"<style>.container { width:100% !important; }</style>\"))"
   ]
  },
  {
   "cell_type": "code",
   "execution_count": 30,
   "metadata": {},
   "outputs": [
    {
     "data": {
      "text/latex": [
       "$\\displaystyle \\left[\\begin{matrix}1 & 0 & 0 & 0 & 0\\\\\\frac{\\mu_2}{2 \\left(\\mu_1 + \\mu_2\\right)} & 1 & 0 & 0 & 0\\\\0 & \\frac{\\mu_3}{2 \\left(- \\frac{\\mu_2^{2}}{4 \\left(\\mu_1 + \\mu_2\\right)} + \\mu_2 + \\mu_3\\right)} & 1 & 0 & 0\\\\0 & 0 & \\frac{\\mu_4}{2 \\left(- \\frac{\\mu_3^{2}}{4 \\left(- \\frac{\\mu_2^{2}}{4 \\left(\\mu_1 + \\mu_2\\right)} + \\mu_2 + \\mu_3\\right)} + \\mu_3 + \\mu_4\\right)} & 1 & 0\\\\0 & 0 & 0 & \\frac{\\mu_5}{2 \\left(- \\frac{\\mu_4^{2}}{4 \\left(- \\frac{\\mu_3^{2}}{4 \\left(- \\frac{\\mu_2^{2}}{4 \\left(\\mu_1 + \\mu_2\\right)} + \\mu_2 + \\mu_3\\right)} + \\mu_3 + \\mu_4\\right)} + \\mu_4 + \\mu_5\\right)} & 1\\end{matrix}\\right]$"
      ],
      "text/plain": [
       "Matrix([\n",
       "[                        1,                                                         0,                                                                                         0,                                                                                                                         0, 0],\n",
       "[\\mu_2/(2*(\\mu_1 + \\mu_2)),                                                         1,                                                                                         0,                                                                                                                         0, 0],\n",
       "[                        0, \\mu_3/(2*(-\\mu_2**2/(4*(\\mu_1 + \\mu_2)) + \\mu_2 + \\mu_3)),                                                                                         1,                                                                                                                         0, 0],\n",
       "[                        0,                                                         0, \\mu_4/(2*(-\\mu_3**2/(4*(-\\mu_2**2/(4*(\\mu_1 + \\mu_2)) + \\mu_2 + \\mu_3)) + \\mu_3 + \\mu_4)),                                                                                                                         1, 0],\n",
       "[                        0,                                                         0,                                                                                         0, \\mu_5/(2*(-\\mu_4**2/(4*(-\\mu_3**2/(4*(-\\mu_2**2/(4*(\\mu_1 + \\mu_2)) + \\mu_2 + \\mu_3)) + \\mu_3 + \\mu_4)) + \\mu_4 + \\mu_5)), 1]])"
      ]
     },
     "metadata": {},
     "output_type": "display_data"
    },
    {
     "name": "stdout",
     "output_type": "stream",
     "text": [
      "hehe\n"
     ]
    },
    {
     "data": {
      "text/latex": [
       "$\\displaystyle 0$"
      ],
      "text/plain": [
       "0"
      ]
     },
     "metadata": {},
     "output_type": "display_data"
    }
   ],
   "source": [
    "PPTY_PHY_PARAMS = {\"positive\": True, \"real\" : True }\n",
    "PPTY_STATE_VAR  = {\"real\" : True }\n",
    "\n",
    "class LDL_inv():\n",
    "    def __init__(self, N, simplify=False):\n",
    "        self.N = N          # dimension des matrices de contraintes\n",
    "        self.Nx = self.N +1 # nombre de variables d'états\n",
    "        \n",
    "        # On veut inverser le résultat d'une décomposition L.T*D*L\n",
    "        #    - D est une matrice diagonale\n",
    "        #    - L est triangulaire inférieure avec diagonale identité\n",
    "        # Liste des coefficient Dk: \n",
    "        self.Di_array  = [None for i in range(self.N)]\n",
    "        self.L         = sy.eye(N)\n",
    "        self.Linv      = sy.eye(N)\n",
    "        self.A         = sy.zeros(N)\n",
    "        self.mui_array = [None for i in range(self.Nx)]\n",
    "        self.SIMPLIFY = simplify\n",
    "        self.oneHalf = sy.Rational(1,2)\n",
    "    \n",
    "        self.init_A()\n",
    "        \n",
    "        # Initial element of the serie\n",
    "        self.Dk1 = self.get_mui(1) + self.get_mui(2)\n",
    "        self.Di_array[0] = self.Dk1\n",
    "        \n",
    "    def init_A(self):\n",
    "        for i in range(self.N):\n",
    "            self.A[i,i]   = self.get_mui(i+1) + self.get_mui(i+2)\n",
    "            try: \n",
    "                self.A[i+1,i] = self.oneHalf *self.get_mui(i+2)\n",
    "            except IndexError:\n",
    "                pass\n",
    "            try: \n",
    "                self.A[i,i+1] = self.oneHalf *self.get_mui(i+2)\n",
    "            except IndexError:\n",
    "                pass\n",
    "             \n",
    "    \n",
    "    def create_mui(self, i):\n",
    "        ''' creates the sympy symbol mu_i = m_i/(ell_i**2)'''\n",
    "        self.mui_array[i-1] = sy.symbols('\\\\mu_{}'.format(i),\n",
    "                            **PPTY_PHY_PARAMS) ## pptés du symb\n",
    "    \n",
    "    def create_Di(self, i, form=1, simplify=False):\n",
    "        '''Recursively create Di: form1 or 2'''\n",
    "        if form == 1:\n",
    "            self.Di_array[i-1] = self.get_mui(i) + self.get_mui(i+1) - \\\n",
    "                                (self.oneHalf*self.get_mui(i))**2/self.get_Di(i-1)\n",
    "        elif form == 2:\n",
    "            self.Di_array[i-1] = (self.get_Di(i-1)*(self.get_mui(i) + self.get_mui(i+1)) - \\\n",
    "                                (self.oneHalf*self.get_mui(i))**2)/self.get_Di(i-1)\n",
    "        \n",
    "        if simplify:\n",
    "            self.Di_array[i-1] = self.Di_array[i-1].simplify()\n",
    "            \n",
    "    def create_Lij(self, i, j, simplify=False):\n",
    "        '''\n",
    "        Returns element of row i and col j\n",
    "        '''\n",
    "        self.L[i-1,j-1] = self.oneHalf*self.get_mui(i)/self.get_Di(i-1)\n",
    "    \n",
    "    def create_Linv_ij(self, i, j, simplify=False):\n",
    "        '''\n",
    "        '''\n",
    "        prod = 1\n",
    "        for ind in range(j+1,i+2):\n",
    "            print(ind)\n",
    "            prod *= -get_mui(ind)/get_Di(ind-1)\n",
    "        if simplify:\n",
    "            prod = prod.simplify()\n",
    "        \n",
    "        self.Linv[i-1, j-1] = prod\n",
    "        \n",
    "    \n",
    "    #### --- GETTERS --- ###\n",
    "    def verify_index(self, i, N):\n",
    "        '''verifies that i<N'''\n",
    "        assert (i <= N),\"Choose a valid index, must be less or equal than {}\".format(self.N)\n",
    "        assert (i > 0), \"Index must be higher than 1\"\n",
    "        return True\n",
    "        \n",
    "    def get_mui(self, i):\n",
    "        ''' \n",
    "        Returns the sympy symbol mu_i = m_i/(ell_i**2), \n",
    "        creates it if needed\n",
    "        '''\n",
    "        if self.verify_index(i, self.Nx):\n",
    "            if self.mui_array[i-1] is None:\n",
    "                self.create_mui(i)\n",
    "                return self.mui_array[i-1]\n",
    "            else:\n",
    "                return self.mui_array[i-1]\n",
    "\n",
    "    def get_Di(self, i):\n",
    "        ''' Returns the i-th element of diagonal matrix D'''\n",
    "        if self.verify_index(i, self.N):\n",
    "            if i == 1:\n",
    "                return self.Dk1\n",
    "            elif self.Di_array[i-1] is None:\n",
    "                self.create_Di(i, simplify=self.SIMPLIFY, form=1)\n",
    "                return self.Di_array[i-1]\n",
    "            else:\n",
    "                return self.Di_array[i-1]\n",
    "    \n",
    "    def get_Lij(self, i, j):\n",
    "        if self.verify_index(i, self.N) and self.verify_index(j, self.N):\n",
    "            if(i == j):\n",
    "                return 1\n",
    "            if j > i or j < i-1:\n",
    "                print('Lij_return zero')\n",
    "                return 0\n",
    "            elif self.L[i-1,j-1] == 0:\n",
    "                self.create_Lij(i,j, simplify=self.SIMPLIFY)\n",
    "                return self.L[i-1,j-1]\n",
    "            else:\n",
    "                return self.L[i-1,j-1]\n",
    "    \n",
    "    def get_Aij(self, i,j):\n",
    "        return self.A[i+1, j+1]\n",
    "    \n",
    "    def get_Linv_ij(self, i, j):\n",
    "        if self.verify_index(i, self.N) and self.verify_index(j, self.N):\n",
    "            if(i == j):\n",
    "                return 1\n",
    "            if j>i:\n",
    "                return 0\n",
    "            elif self.Linv[-1,-1] == 0:\n",
    "                self.create_Linv_ij(i, j)\n",
    "                return self.Linv[i-1,j-1]\n",
    "            else: \n",
    "                return self.Linv[i-1,j-1]\n",
    "\n",
    "                \n",
    "    \n",
    "LDL_inv = LDL_inv(5, simplify=False)\n",
    "LDL_inv.get_Lij(2,1)\n",
    "LDL_inv.get_Lij(3,2)\n",
    "LDL_inv.get_Lij(4,3)\n",
    "LDL_inv.get_Lij(5,4)\n",
    "display(LDL_inv.L)\n",
    "print('hehe')\n",
    "display(LDL_inv.get_Linv_ij(4,1))"
   ]
  },
  {
   "cell_type": "code",
   "execution_count": null,
   "metadata": {},
   "outputs": [],
   "source": []
  },
  {
   "cell_type": "code",
   "execution_count": null,
   "metadata": {},
   "outputs": [],
   "source": []
  },
  {
   "cell_type": "code",
   "execution_count": null,
   "metadata": {},
   "outputs": [],
   "source": []
  },
  {
   "cell_type": "code",
   "execution_count": null,
   "metadata": {},
   "outputs": [],
   "source": []
  },
  {
   "cell_type": "code",
   "execution_count": null,
   "metadata": {},
   "outputs": [],
   "source": []
  },
  {
   "cell_type": "code",
   "execution_count": null,
   "metadata": {},
   "outputs": [],
   "source": []
  },
  {
   "cell_type": "code",
   "execution_count": null,
   "metadata": {},
   "outputs": [],
   "source": []
  },
  {
   "cell_type": "code",
   "execution_count": null,
   "metadata": {},
   "outputs": [],
   "source": []
  },
  {
   "cell_type": "code",
   "execution_count": null,
   "metadata": {},
   "outputs": [],
   "source": []
  },
  {
   "cell_type": "code",
   "execution_count": null,
   "metadata": {},
   "outputs": [],
   "source": []
  },
  {
   "cell_type": "code",
   "execution_count": null,
   "metadata": {},
   "outputs": [],
   "source": []
  },
  {
   "cell_type": "code",
   "execution_count": null,
   "metadata": {},
   "outputs": [],
   "source": []
  }
 ],
 "metadata": {
  "kernelspec": {
   "display_name": "Python 3",
   "language": "python",
   "name": "python3"
  },
  "language_info": {
   "codemirror_mode": {
    "name": "ipython",
    "version": 3
   },
   "file_extension": ".py",
   "mimetype": "text/x-python",
   "name": "python",
   "nbconvert_exporter": "python",
   "pygments_lexer": "ipython3",
   "version": "3.8.2"
  }
 },
 "nbformat": 4,
 "nbformat_minor": 4
}
