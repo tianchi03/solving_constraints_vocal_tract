{
 "cells": [
  {
   "cell_type": "code",
   "execution_count": 1,
   "metadata": {},
   "outputs": [
    {
     "data": {
      "text/html": [
       "<style>.container { width:100% !important; }</style>"
      ],
      "text/plain": [
       "<IPython.core.display.HTML object>"
      ]
     },
     "metadata": {},
     "output_type": "display_data"
    }
   ],
   "source": [
    "import sympy as sy\n",
    "import numpy as np\n",
    "from IPython.display import display\n",
    "PPTY_PHY_PARAMS = {\"positive\": True, \"real\" : True }\n",
    "PPTY_STATE_VAR  = {\"real\" : True }\n",
    "\n",
    "from IPython.core.display import display, HTML\n",
    "display(HTML(\"<style>.container { width:100% !important; }</style>\"))"
   ]
  },
  {
   "cell_type": "markdown",
   "metadata": {},
   "source": [
    "## Objectif\n",
    "Faire le changement de variable pour un certain nombre de tronçons $N$"
   ]
  },
  {
   "cell_type": "code",
   "execution_count": 21,
   "metadata": {},
   "outputs": [
    {
     "data": {
      "text/plain": [
       "20"
      ]
     },
     "execution_count": 21,
     "metadata": {},
     "output_type": "execute_result"
    }
   ],
   "source": [
    "N = 4  # Nombre de tronçons\n",
    "Nix = 5 # Nombre d'états par tronçon\n",
    "N_lambda = N-1 # Nombre de contraintes\n",
    "Nx = N * Nix     # Nombre total d'état\n",
    "Nx"
   ]
  },
  {
   "cell_type": "markdown",
   "metadata": {},
   "source": [
    "### Définition des symboles"
   ]
  },
  {
   "cell_type": "code",
   "execution_count": 3,
   "metadata": {},
   "outputs": [],
   "source": [
    "nuL_vec  = sy.symbols('nu_L1:{}'.format(N+1), **PPTY_STATE_VAR)\n",
    "nuR_vec  = sy.symbols('nu_R1:{}'.format(N+1), **PPTY_STATE_VAR)\n",
    "Pi_y_vec = sy.symbols('Pi_y1:{}'.format(N+1), **PPTY_STATE_VAR)\n",
    "m_vec    = sy.symbols('m_1:{}'.format(N+1), **PPTY_PHY_PARAMS)\n",
    "h_vec    = sy.symbols('h_1:{}'.format(N+1), **PPTY_STATE_VAR)"
   ]
  },
  {
   "cell_type": "code",
   "execution_count": 4,
   "metadata": {},
   "outputs": [
    {
     "data": {
      "text/latex": [
       "$\\displaystyle \\left[\\begin{matrix}\\nu_{L1}\\\\\\nu_{R1}\\\\\\nu_{L2}\\\\\\nu_{R2}\\\\\\nu_{L3}\\\\\\nu_{R3}\\\\\\nu_{L4}\\\\\\nu_{R4}\\\\\\Pi_{y1}\\\\\\Pi_{y2}\\\\\\Pi_{y3}\\\\\\Pi_{y4}\\\\h_{1}\\\\h_{2}\\\\h_{3}\\\\h_{4}\\\\m_{1}\\\\m_{2}\\\\m_{3}\\\\m_{4}\\end{matrix}\\right]$"
      ],
      "text/plain": [
       "Matrix([\n",
       "[nu_L1],\n",
       "[nu_R1],\n",
       "[nu_L2],\n",
       "[nu_R2],\n",
       "[nu_L3],\n",
       "[nu_R3],\n",
       "[nu_L4],\n",
       "[nu_R4],\n",
       "[Pi_y1],\n",
       "[Pi_y2],\n",
       "[Pi_y3],\n",
       "[Pi_y4],\n",
       "[  h_1],\n",
       "[  h_2],\n",
       "[  h_3],\n",
       "[  h_4],\n",
       "[  m_1],\n",
       "[  m_2],\n",
       "[  m_3],\n",
       "[  m_4]])"
      ]
     },
     "metadata": {},
     "output_type": "display_data"
    }
   ],
   "source": [
    "X = [0 for i in range(N*2)]\n",
    "for i in range(0,len(nuL_vec)):\n",
    "    X[2*i] = nuL_vec[i]\n",
    "    X[2*i+1] = nuR_vec[i]\n",
    "    \n",
    "X = sy.Matrix(X + list(Pi_y_vec)  + list(h_vec)+ list(m_vec))\n",
    "display(X)"
   ]
  },
  {
   "cell_type": "code",
   "execution_count": 5,
   "metadata": {},
   "outputs": [
    {
     "data": {
      "text/latex": [
       "$\\displaystyle \\left[\\begin{array}{cccccccccccccccccccc}0 & 1 & -1 & 0 & 0 & 0 & 0 & 0 & 0 & 0 & 0 & 0 & 0 & 0 & 0 & 0 & 0 & 0 & 0 & 0\\\\0 & 0 & 0 & 1 & -1 & 0 & 0 & 0 & 0 & 0 & 0 & 0 & 0 & 0 & 0 & 0 & 0 & 0 & 0 & 0\\\\0 & 0 & 0 & 0 & 0 & 1 & -1 & 0 & 0 & 0 & 0 & 0 & 0 & 0 & 0 & 0 & 0 & 0 & 0 & 0\\end{array}\\right]$"
      ],
      "text/plain": [
       "Matrix([\n",
       "[0, 1, -1, 0,  0, 0,  0, 0, 0, 0, 0, 0, 0, 0, 0, 0, 0, 0, 0, 0],\n",
       "[0, 0,  0, 1, -1, 0,  0, 0, 0, 0, 0, 0, 0, 0, 0, 0, 0, 0, 0, 0],\n",
       "[0, 0,  0, 0,  0, 1, -1, 0, 0, 0, 0, 0, 0, 0, 0, 0, 0, 0, 0, 0]])"
      ]
     },
     "metadata": {},
     "output_type": "display_data"
    },
    {
     "name": "stdout",
     "output_type": "stream",
     "text": [
      "---------\n",
      "Contraintes\n"
     ]
    },
    {
     "data": {
      "text/latex": [
       "$\\displaystyle \\left[\\begin{matrix}- \\nu_{L2} + \\nu_{R1}\\\\- \\nu_{L3} + \\nu_{R2}\\\\- \\nu_{L4} + \\nu_{R3}\\end{matrix}\\right]$"
      ],
      "text/plain": [
       "Matrix([\n",
       "[-nu_L2 + nu_R1],\n",
       "[-nu_L3 + nu_R2],\n",
       "[-nu_L4 + nu_R3]])"
      ]
     },
     "metadata": {},
     "output_type": "display_data"
    }
   ],
   "source": [
    "bT = sy.zeros(N_lambda, Nx)\n",
    "for i in range(N_lambda):\n",
    "    bT[i, 1+2*i] = 1 \n",
    "    bT[i, 2+i*2] = -1\n",
    "b = bT.T\n",
    "display(b.T)\n",
    "print('---------')\n",
    "print('Contraintes')\n",
    "display(b.T*X)"
   ]
  },
  {
   "cell_type": "code",
   "execution_count": 6,
   "metadata": {},
   "outputs": [
    {
     "data": {
      "text/latex": [
       "$\\displaystyle \\left[\\begin{array}{cccccccccccccccccccc}1 & 0 & 0 & 0 & 0 & 0 & 0 & 0 & 0 & 0 & 0 & 0 & 0 & 0 & 0 & 0 & 0 & 0 & 0 & 0\\\\0 & 1 & 1 & 0 & 0 & 0 & 0 & 0 & 0 & 0 & 0 & 0 & 0 & 0 & 0 & 0 & 0 & 0 & 0 & 0\\\\0 & 0 & 0 & 1 & 1 & 0 & 0 & 0 & 0 & 0 & 0 & 0 & 0 & 0 & 0 & 0 & 0 & 0 & 0 & 0\\\\0 & 0 & 0 & 0 & 0 & 1 & 1 & 0 & 0 & 0 & 0 & 0 & 0 & 0 & 0 & 0 & 0 & 0 & 0 & 0\\\\0 & 0 & 0 & 0 & 0 & 0 & 0 & 1 & 0 & 0 & 0 & 0 & 0 & 0 & 0 & 0 & 0 & 0 & 0 & 0\\\\0 & 0 & 0 & 0 & 0 & 0 & 0 & 0 & 1 & 0 & 0 & 0 & 0 & 0 & 0 & 0 & 0 & 0 & 0 & 0\\\\0 & 0 & 0 & 0 & 0 & 0 & 0 & 0 & 0 & 1 & 0 & 0 & 0 & 0 & 0 & 0 & 0 & 0 & 0 & 0\\\\0 & 0 & 0 & 0 & 0 & 0 & 0 & 0 & 0 & 0 & 1 & 0 & 0 & 0 & 0 & 0 & 0 & 0 & 0 & 0\\\\0 & 0 & 0 & 0 & 0 & 0 & 0 & 0 & 0 & 0 & 0 & 1 & 0 & 0 & 0 & 0 & 0 & 0 & 0 & 0\\\\0 & 0 & 0 & 0 & 0 & 0 & 0 & 0 & 0 & 0 & 0 & 0 & 1 & 0 & 0 & 0 & 0 & 0 & 0 & 0\\\\0 & 0 & 0 & 0 & 0 & 0 & 0 & 0 & 0 & 0 & 0 & 0 & 0 & 1 & 0 & 0 & 0 & 0 & 0 & 0\\\\0 & 0 & 0 & 0 & 0 & 0 & 0 & 0 & 0 & 0 & 0 & 0 & 0 & 0 & 1 & 0 & 0 & 0 & 0 & 0\\\\0 & 0 & 0 & 0 & 0 & 0 & 0 & 0 & 0 & 0 & 0 & 0 & 0 & 0 & 0 & 1 & 0 & 0 & 0 & 0\\\\0 & 0 & 0 & 0 & 0 & 0 & 0 & 0 & 0 & 0 & 0 & 0 & 0 & 0 & 0 & 0 & 1 & 0 & 0 & 0\\\\0 & 0 & 0 & 0 & 0 & 0 & 0 & 0 & 0 & 0 & 0 & 0 & 0 & 0 & 0 & 0 & 0 & 1 & 0 & 0\\\\0 & 0 & 0 & 0 & 0 & 0 & 0 & 0 & 0 & 0 & 0 & 0 & 0 & 0 & 0 & 0 & 0 & 0 & 1 & 0\\\\0 & 0 & 0 & 0 & 0 & 0 & 0 & 0 & 0 & 0 & 0 & 0 & 0 & 0 & 0 & 0 & 0 & 0 & 0 & 1\\end{array}\\right]$"
      ],
      "text/plain": [
       "Matrix([\n",
       "[1, 0, 0, 0, 0, 0, 0, 0, 0, 0, 0, 0, 0, 0, 0, 0, 0, 0, 0, 0],\n",
       "[0, 1, 1, 0, 0, 0, 0, 0, 0, 0, 0, 0, 0, 0, 0, 0, 0, 0, 0, 0],\n",
       "[0, 0, 0, 1, 1, 0, 0, 0, 0, 0, 0, 0, 0, 0, 0, 0, 0, 0, 0, 0],\n",
       "[0, 0, 0, 0, 0, 1, 1, 0, 0, 0, 0, 0, 0, 0, 0, 0, 0, 0, 0, 0],\n",
       "[0, 0, 0, 0, 0, 0, 0, 1, 0, 0, 0, 0, 0, 0, 0, 0, 0, 0, 0, 0],\n",
       "[0, 0, 0, 0, 0, 0, 0, 0, 1, 0, 0, 0, 0, 0, 0, 0, 0, 0, 0, 0],\n",
       "[0, 0, 0, 0, 0, 0, 0, 0, 0, 1, 0, 0, 0, 0, 0, 0, 0, 0, 0, 0],\n",
       "[0, 0, 0, 0, 0, 0, 0, 0, 0, 0, 1, 0, 0, 0, 0, 0, 0, 0, 0, 0],\n",
       "[0, 0, 0, 0, 0, 0, 0, 0, 0, 0, 0, 1, 0, 0, 0, 0, 0, 0, 0, 0],\n",
       "[0, 0, 0, 0, 0, 0, 0, 0, 0, 0, 0, 0, 1, 0, 0, 0, 0, 0, 0, 0],\n",
       "[0, 0, 0, 0, 0, 0, 0, 0, 0, 0, 0, 0, 0, 1, 0, 0, 0, 0, 0, 0],\n",
       "[0, 0, 0, 0, 0, 0, 0, 0, 0, 0, 0, 0, 0, 0, 1, 0, 0, 0, 0, 0],\n",
       "[0, 0, 0, 0, 0, 0, 0, 0, 0, 0, 0, 0, 0, 0, 0, 1, 0, 0, 0, 0],\n",
       "[0, 0, 0, 0, 0, 0, 0, 0, 0, 0, 0, 0, 0, 0, 0, 0, 1, 0, 0, 0],\n",
       "[0, 0, 0, 0, 0, 0, 0, 0, 0, 0, 0, 0, 0, 0, 0, 0, 0, 1, 0, 0],\n",
       "[0, 0, 0, 0, 0, 0, 0, 0, 0, 0, 0, 0, 0, 0, 0, 0, 0, 0, 1, 0],\n",
       "[0, 0, 0, 0, 0, 0, 0, 0, 0, 0, 0, 0, 0, 0, 0, 0, 0, 0, 0, 1]])"
      ]
     },
     "metadata": {},
     "output_type": "display_data"
    },
    {
     "data": {
      "text/latex": [
       "$\\displaystyle \\left[\\begin{matrix}0 & 0 & 0\\\\0 & 0 & 0\\\\0 & 0 & 0\\\\0 & 0 & 0\\\\0 & 0 & 0\\\\0 & 0 & 0\\\\0 & 0 & 0\\\\0 & 0 & 0\\\\0 & 0 & 0\\\\0 & 0 & 0\\\\0 & 0 & 0\\\\0 & 0 & 0\\\\0 & 0 & 0\\\\0 & 0 & 0\\\\0 & 0 & 0\\\\0 & 0 & 0\\\\0 & 0 & 0\\end{matrix}\\right]$"
      ],
      "text/plain": [
       "Matrix([\n",
       "[0, 0, 0],\n",
       "[0, 0, 0],\n",
       "[0, 0, 0],\n",
       "[0, 0, 0],\n",
       "[0, 0, 0],\n",
       "[0, 0, 0],\n",
       "[0, 0, 0],\n",
       "[0, 0, 0],\n",
       "[0, 0, 0],\n",
       "[0, 0, 0],\n",
       "[0, 0, 0],\n",
       "[0, 0, 0],\n",
       "[0, 0, 0],\n",
       "[0, 0, 0],\n",
       "[0, 0, 0],\n",
       "[0, 0, 0],\n",
       "[0, 0, 0]])"
      ]
     },
     "metadata": {},
     "output_type": "display_data"
    },
    {
     "name": "stdout",
     "output_type": "stream",
     "text": [
      "Rang: 17\n"
     ]
    }
   ],
   "source": [
    "# On construit la matrice annulatrice de b à gauche\n",
    "annul_b = sy.zeros(Nx-N_lambda,Nx)\n",
    "\n",
    "annul_b[0,0] = 1\n",
    "annul_b[N::, N + N_lambda::] = sy.eye(3*N+1)\n",
    "for i in range(1,N_lambda+1):\n",
    "    annul_b[i, 2*i-1] = 1 \n",
    "    annul_b[i, 2*i] = 1\n",
    "\n",
    "display(annul_b, annul_b*b)\n",
    "print('Rang: ' + str(annul_b.rank()))\n",
    "\n",
    "assert annul_b.rank() == annul_b.shape[0], \"La matrice n'est pas de rang plein\"\n",
    "assert annul_b*b == sy.zeros(Nx-N_lambda, N_lambda), \"N'est pas annulateur\"\n",
    "\n",
    "#print(sy.latex(annul_b))"
   ]
  },
  {
   "cell_type": "markdown",
   "metadata": {},
   "source": [
    "## Changement de variable"
   ]
  },
  {
   "cell_type": "code",
   "execution_count": 7,
   "metadata": {},
   "outputs": [
    {
     "data": {
      "text/latex": [
       "$\\displaystyle \\left[\\begin{array}{cccccccccccccccccccc}1 & 0 & 0 & 0 & 0 & 0 & 0 & 0 & 0 & 0 & 0 & 0 & 0 & 0 & 0 & 0 & 0 & 0 & 0 & 0\\\\0 & 1 & 1 & 0 & 0 & 0 & 0 & 0 & 0 & 0 & 0 & 0 & 0 & 0 & 0 & 0 & 0 & 0 & 0 & 0\\\\0 & 0 & 0 & 1 & 1 & 0 & 0 & 0 & 0 & 0 & 0 & 0 & 0 & 0 & 0 & 0 & 0 & 0 & 0 & 0\\\\0 & 0 & 0 & 0 & 0 & 1 & 1 & 0 & 0 & 0 & 0 & 0 & 0 & 0 & 0 & 0 & 0 & 0 & 0 & 0\\\\0 & 0 & 0 & 0 & 0 & 0 & 0 & 1 & 0 & 0 & 0 & 0 & 0 & 0 & 0 & 0 & 0 & 0 & 0 & 0\\\\0 & 0 & 0 & 0 & 0 & 0 & 0 & 0 & 1 & 0 & 0 & 0 & 0 & 0 & 0 & 0 & 0 & 0 & 0 & 0\\\\0 & 0 & 0 & 0 & 0 & 0 & 0 & 0 & 0 & 1 & 0 & 0 & 0 & 0 & 0 & 0 & 0 & 0 & 0 & 0\\\\0 & 0 & 0 & 0 & 0 & 0 & 0 & 0 & 0 & 0 & 1 & 0 & 0 & 0 & 0 & 0 & 0 & 0 & 0 & 0\\\\0 & 0 & 0 & 0 & 0 & 0 & 0 & 0 & 0 & 0 & 0 & 1 & 0 & 0 & 0 & 0 & 0 & 0 & 0 & 0\\\\0 & 0 & 0 & 0 & 0 & 0 & 0 & 0 & 0 & 0 & 0 & 0 & 1 & 0 & 0 & 0 & 0 & 0 & 0 & 0\\\\0 & 0 & 0 & 0 & 0 & 0 & 0 & 0 & 0 & 0 & 0 & 0 & 0 & 1 & 0 & 0 & 0 & 0 & 0 & 0\\\\0 & 0 & 0 & 0 & 0 & 0 & 0 & 0 & 0 & 0 & 0 & 0 & 0 & 0 & 1 & 0 & 0 & 0 & 0 & 0\\\\0 & 0 & 0 & 0 & 0 & 0 & 0 & 0 & 0 & 0 & 0 & 0 & 0 & 0 & 0 & 1 & 0 & 0 & 0 & 0\\\\0 & 0 & 0 & 0 & 0 & 0 & 0 & 0 & 0 & 0 & 0 & 0 & 0 & 0 & 0 & 0 & 1 & 0 & 0 & 0\\\\0 & 0 & 0 & 0 & 0 & 0 & 0 & 0 & 0 & 0 & 0 & 0 & 0 & 0 & 0 & 0 & 0 & 1 & 0 & 0\\\\0 & 0 & 0 & 0 & 0 & 0 & 0 & 0 & 0 & 0 & 0 & 0 & 0 & 0 & 0 & 0 & 0 & 0 & 1 & 0\\\\0 & 0 & 0 & 0 & 0 & 0 & 0 & 0 & 0 & 0 & 0 & 0 & 0 & 0 & 0 & 0 & 0 & 0 & 0 & 1\\\\0 & \\frac{1}{2} & - \\frac{1}{2} & 0 & 0 & 0 & 0 & 0 & 0 & 0 & 0 & 0 & 0 & 0 & 0 & 0 & 0 & 0 & 0 & 0\\\\0 & 0 & 0 & \\frac{1}{2} & - \\frac{1}{2} & 0 & 0 & 0 & 0 & 0 & 0 & 0 & 0 & 0 & 0 & 0 & 0 & 0 & 0 & 0\\\\0 & 0 & 0 & 0 & 0 & \\frac{1}{2} & - \\frac{1}{2} & 0 & 0 & 0 & 0 & 0 & 0 & 0 & 0 & 0 & 0 & 0 & 0 & 0\\end{array}\\right]$"
      ],
      "text/plain": [
       "Matrix([\n",
       "[1,   0,    0,   0,    0,   0,    0, 0, 0, 0, 0, 0, 0, 0, 0, 0, 0, 0, 0, 0],\n",
       "[0,   1,    1,   0,    0,   0,    0, 0, 0, 0, 0, 0, 0, 0, 0, 0, 0, 0, 0, 0],\n",
       "[0,   0,    0,   1,    1,   0,    0, 0, 0, 0, 0, 0, 0, 0, 0, 0, 0, 0, 0, 0],\n",
       "[0,   0,    0,   0,    0,   1,    1, 0, 0, 0, 0, 0, 0, 0, 0, 0, 0, 0, 0, 0],\n",
       "[0,   0,    0,   0,    0,   0,    0, 1, 0, 0, 0, 0, 0, 0, 0, 0, 0, 0, 0, 0],\n",
       "[0,   0,    0,   0,    0,   0,    0, 0, 1, 0, 0, 0, 0, 0, 0, 0, 0, 0, 0, 0],\n",
       "[0,   0,    0,   0,    0,   0,    0, 0, 0, 1, 0, 0, 0, 0, 0, 0, 0, 0, 0, 0],\n",
       "[0,   0,    0,   0,    0,   0,    0, 0, 0, 0, 1, 0, 0, 0, 0, 0, 0, 0, 0, 0],\n",
       "[0,   0,    0,   0,    0,   0,    0, 0, 0, 0, 0, 1, 0, 0, 0, 0, 0, 0, 0, 0],\n",
       "[0,   0,    0,   0,    0,   0,    0, 0, 0, 0, 0, 0, 1, 0, 0, 0, 0, 0, 0, 0],\n",
       "[0,   0,    0,   0,    0,   0,    0, 0, 0, 0, 0, 0, 0, 1, 0, 0, 0, 0, 0, 0],\n",
       "[0,   0,    0,   0,    0,   0,    0, 0, 0, 0, 0, 0, 0, 0, 1, 0, 0, 0, 0, 0],\n",
       "[0,   0,    0,   0,    0,   0,    0, 0, 0, 0, 0, 0, 0, 0, 0, 1, 0, 0, 0, 0],\n",
       "[0,   0,    0,   0,    0,   0,    0, 0, 0, 0, 0, 0, 0, 0, 0, 0, 1, 0, 0, 0],\n",
       "[0,   0,    0,   0,    0,   0,    0, 0, 0, 0, 0, 0, 0, 0, 0, 0, 0, 1, 0, 0],\n",
       "[0,   0,    0,   0,    0,   0,    0, 0, 0, 0, 0, 0, 0, 0, 0, 0, 0, 0, 1, 0],\n",
       "[0,   0,    0,   0,    0,   0,    0, 0, 0, 0, 0, 0, 0, 0, 0, 0, 0, 0, 0, 1],\n",
       "[0, 1/2, -1/2,   0,    0,   0,    0, 0, 0, 0, 0, 0, 0, 0, 0, 0, 0, 0, 0, 0],\n",
       "[0,   0,    0, 1/2, -1/2,   0,    0, 0, 0, 0, 0, 0, 0, 0, 0, 0, 0, 0, 0, 0],\n",
       "[0,   0,    0,   0,    0, 1/2, -1/2, 0, 0, 0, 0, 0, 0, 0, 0, 0, 0, 0, 0, 0]])"
      ]
     },
     "metadata": {},
     "output_type": "display_data"
    }
   ],
   "source": [
    "M = sy.zeros(Nx, Nx)\n",
    "M[0:Nx-N_lambda,::] = annul_b\n",
    "M[Nx-N_lambda::, ::] = (bT*b).inv()*bT\n",
    "display(M)\n",
    "#print(sy.latex(M))"
   ]
  },
  {
   "cell_type": "markdown",
   "metadata": {},
   "source": [
    "## Matrice d'interconnexion"
   ]
  },
  {
   "cell_type": "markdown",
   "metadata": {},
   "source": [
    "Jxx = sy.zeros(Nx, Nx)\n",
    "Jvw_h = sy.eye(N)\n",
    "\n",
    "Jql_m = sy.zeros(N, 2*N)\n",
    "for i in range(N):\n",
    "    Jql_m[i, 2*i  ] = 1\n",
    "    Jql_m[i, 2*i+1] = -1\n",
    "Jxx[4*N::, 0:2*N] = Jql_m\n",
    "Jxx[3*N:4*N, 2*N:3*N] = Jvw_h\n",
    "Jxx += Jxx.T\n",
    "Jxx"
   ]
  },
  {
   "cell_type": "markdown",
   "metadata": {},
   "source": [
    "R = -Jxx[3*N:5*N, ::].T\n",
    "R"
   ]
  },
  {
   "cell_type": "markdown",
   "metadata": {},
   "source": [
    "## Nouveaux états"
   ]
  },
  {
   "cell_type": "code",
   "execution_count": 8,
   "metadata": {
    "scrolled": false
   },
   "outputs": [
    {
     "data": {
      "text/latex": [
       "$\\displaystyle \\left[\\begin{matrix}\\nu_{L1}\\\\\\nu_{L2} + \\nu_{R1}\\\\\\nu_{L3} + \\nu_{R2}\\\\\\nu_{L4} + \\nu_{R3}\\\\\\nu_{R4}\\\\\\Pi_{y1}\\\\\\Pi_{y2}\\\\\\Pi_{y3}\\\\\\Pi_{y4}\\\\h_{1}\\\\h_{2}\\\\h_{3}\\\\h_{4}\\\\m_{1}\\\\m_{2}\\\\m_{3}\\\\m_{4}\\\\- \\frac{\\nu_{L2}}{2} + \\frac{\\nu_{R1}}{2}\\\\- \\frac{\\nu_{L3}}{2} + \\frac{\\nu_{R2}}{2}\\\\- \\frac{\\nu_{L4}}{2} + \\frac{\\nu_{R3}}{2}\\end{matrix}\\right]$"
      ],
      "text/plain": [
       "Matrix([\n",
       "[             nu_L1],\n",
       "[     nu_L2 + nu_R1],\n",
       "[     nu_L3 + nu_R2],\n",
       "[     nu_L4 + nu_R3],\n",
       "[             nu_R4],\n",
       "[             Pi_y1],\n",
       "[             Pi_y2],\n",
       "[             Pi_y3],\n",
       "[             Pi_y4],\n",
       "[               h_1],\n",
       "[               h_2],\n",
       "[               h_3],\n",
       "[               h_4],\n",
       "[               m_1],\n",
       "[               m_2],\n",
       "[               m_3],\n",
       "[               m_4],\n",
       "[-nu_L2/2 + nu_R1/2],\n",
       "[-nu_L3/2 + nu_R2/2],\n",
       "[-nu_L4/2 + nu_R3/2]])"
      ]
     },
     "metadata": {},
     "output_type": "display_data"
    }
   ],
   "source": [
    "display(M*X)\n",
    "#print(sy.latex(M*X))"
   ]
  },
  {
   "cell_type": "code",
   "execution_count": 9,
   "metadata": {},
   "outputs": [
    {
     "data": {
      "text/latex": [
       "$\\displaystyle \\left[\\begin{array}{cccccccccccccccccccc}0 & 0 & 0 & 0 & 0 & 0 & 0 & 0 & 0 & 0 & 0 & 0 & 0 & 0 & 0 & 0 & 0 & 1 & 0 & 0\\\\0 & 0 & 0 & 0 & 0 & 0 & 0 & 0 & 0 & 0 & 0 & 0 & 0 & 0 & 0 & 0 & 0 & 0 & 1 & 0\\\\0 & 0 & 0 & 0 & 0 & 0 & 0 & 0 & 0 & 0 & 0 & 0 & 0 & 0 & 0 & 0 & 0 & 0 & 0 & 1\\end{array}\\right]$"
      ],
      "text/plain": [
       "Matrix([\n",
       "[0, 0, 0, 0, 0, 0, 0, 0, 0, 0, 0, 0, 0, 0, 0, 0, 0, 1, 0, 0],\n",
       "[0, 0, 0, 0, 0, 0, 0, 0, 0, 0, 0, 0, 0, 0, 0, 0, 0, 0, 1, 0],\n",
       "[0, 0, 0, 0, 0, 0, 0, 0, 0, 0, 0, 0, 0, 0, 0, 0, 0, 0, 0, 1]])"
      ]
     },
     "execution_count": 9,
     "metadata": {},
     "output_type": "execute_result"
    }
   ],
   "source": [
    "bT*M.T"
   ]
  },
  {
   "cell_type": "markdown",
   "metadata": {},
   "source": [
    "## Énergie"
   ]
  },
  {
   "cell_type": "code",
   "execution_count": 24,
   "metadata": {
    "scrolled": false
   },
   "outputs": [
    {
     "data": {
      "text/latex": [
       "$\\displaystyle \\left[\\begin{array}{cccccccccccccccccccc}1 & 0 & 0 & 0 & 0 & 0 & 0 & 0 & 0 & 0 & 0 & 0 & 0 & 0 & 0 & 0 & 0 & 0 & 0 & 0\\\\0 & \\frac{1}{2} & 0 & 0 & 0 & 0 & 0 & 0 & 0 & 0 & 0 & 0 & 0 & 0 & 0 & 0 & 0 & 1 & 0 & 0\\\\0 & \\frac{1}{2} & 0 & 0 & 0 & 0 & 0 & 0 & 0 & 0 & 0 & 0 & 0 & 0 & 0 & 0 & 0 & -1 & 0 & 0\\\\0 & 0 & \\frac{1}{2} & 0 & 0 & 0 & 0 & 0 & 0 & 0 & 0 & 0 & 0 & 0 & 0 & 0 & 0 & 0 & 1 & 0\\\\0 & 0 & \\frac{1}{2} & 0 & 0 & 0 & 0 & 0 & 0 & 0 & 0 & 0 & 0 & 0 & 0 & 0 & 0 & 0 & -1 & 0\\\\0 & 0 & 0 & \\frac{1}{2} & 0 & 0 & 0 & 0 & 0 & 0 & 0 & 0 & 0 & 0 & 0 & 0 & 0 & 0 & 0 & 1\\\\0 & 0 & 0 & \\frac{1}{2} & 0 & 0 & 0 & 0 & 0 & 0 & 0 & 0 & 0 & 0 & 0 & 0 & 0 & 0 & 0 & -1\\\\0 & 0 & 0 & 0 & 1 & 0 & 0 & 0 & 0 & 0 & 0 & 0 & 0 & 0 & 0 & 0 & 0 & 0 & 0 & 0\\end{array}\\right]$"
      ],
      "text/plain": [
       "Matrix([\n",
       "[1,   0,   0,   0, 0, 0, 0, 0, 0, 0, 0, 0, 0, 0, 0, 0, 0,  0,  0,  0],\n",
       "[0, 1/2,   0,   0, 0, 0, 0, 0, 0, 0, 0, 0, 0, 0, 0, 0, 0,  1,  0,  0],\n",
       "[0, 1/2,   0,   0, 0, 0, 0, 0, 0, 0, 0, 0, 0, 0, 0, 0, 0, -1,  0,  0],\n",
       "[0,   0, 1/2,   0, 0, 0, 0, 0, 0, 0, 0, 0, 0, 0, 0, 0, 0,  0,  1,  0],\n",
       "[0,   0, 1/2,   0, 0, 0, 0, 0, 0, 0, 0, 0, 0, 0, 0, 0, 0,  0, -1,  0],\n",
       "[0,   0,   0, 1/2, 0, 0, 0, 0, 0, 0, 0, 0, 0, 0, 0, 0, 0,  0,  0,  1],\n",
       "[0,   0,   0, 1/2, 0, 0, 0, 0, 0, 0, 0, 0, 0, 0, 0, 0, 0,  0,  0, -1],\n",
       "[0,   0,   0,   0, 1, 0, 0, 0, 0, 0, 0, 0, 0, 0, 0, 0, 0,  0,  0,  0]])"
      ]
     },
     "metadata": {},
     "output_type": "display_data"
    }
   ],
   "source": [
    "nu_NNpa_vec = []\n",
    "Z = M*X\n",
    "for i in range(N_lambda):\n",
    "    Z[i+1] = sy.symbols('nu_{0}{1}'.format(i+1,i+2), **PPTY_STATE_VAR)\n",
    "for i in range(N_lambda):\n",
    "    Z[Nx-N_lambda+i] = sy.symbols('Delta_{}'.format(10*(i+1) + (i+2)))\n",
    "#display(Z, M.inv()*Z)\n",
    "display(M.inv()[0:2*N, :])"
   ]
  },
  {
   "cell_type": "code",
   "execution_count": 11,
   "metadata": {},
   "outputs": [
    {
     "name": "stdout",
     "output_type": "stream",
     "text": [
      "-----------------\n",
      "Énergie classique\n"
     ]
    },
    {
     "data": {
      "text/latex": [
       "$\\displaystyle \\frac{m_{4} \\left(\\nu_{L4}^{2} - \\nu_{L4} \\nu_{R4} + \\nu_{R4}^{2}\\right)}{2 \\ell_{4}^{2}} + \\frac{m_{3} \\left(\\nu_{L3}^{2} - \\nu_{L3} \\nu_{R3} + \\nu_{R3}^{2}\\right)}{2 \\ell_{3}^{2}} + \\frac{m_{2} \\left(\\nu_{L2}^{2} - \\nu_{L2} \\nu_{R2} + \\nu_{R2}^{2}\\right)}{2 \\ell_{2}^{2}} + \\frac{m_{1} \\left(\\nu_{L1}^{2} - \\nu_{L1} \\nu_{R1} + \\nu_{R1}^{2}\\right)}{2 \\ell_{1}^{2}}$"
      ],
      "text/plain": [
       "m_4*(nu_L4**2 - nu_L4*nu_R4 + nu_R4**2)/(2*ell_4**2) + m_3*(nu_L3**2 - nu_L3*nu_R3 + nu_R3**2)/(2*ell_3**2) + m_2*(nu_L2**2 - nu_L2*nu_R2 + nu_R2**2)/(2*ell_2**2) + m_1*(nu_L1**2 - nu_L1*nu_R1 + nu_R1**2)/(2*ell_1**2)"
      ]
     },
     "metadata": {},
     "output_type": "display_data"
    },
    {
     "name": "stdout",
     "output_type": "stream",
     "text": [
      "-----------------\n",
      "Énergie contrainte\n"
     ]
    },
    {
     "data": {
      "text/latex": [
       "$\\displaystyle \\Delta_{12}^{2} \\left(\\frac{m_{2}}{2 \\ell_{2}^{2}} + \\frac{m_{1}}{2 \\ell_{1}^{2}}\\right) + \\frac{\\Delta_{12} \\Delta_{23} m_{2}}{2 \\ell_{2}^{2}} + \\Delta_{23}^{2} \\left(\\frac{m_{3}}{2 \\ell_{3}^{2}} + \\frac{m_{2}}{2 \\ell_{2}^{2}}\\right) + \\frac{\\Delta_{23} \\Delta_{34} m_{3}}{2 \\ell_{3}^{2}} + \\Delta_{34}^{2} \\left(\\frac{m_{4}}{2 \\ell_{4}^{2}} + \\frac{m_{3}}{2 \\ell_{3}^{2}}\\right) + \\frac{\\Delta_{34} m_{4} \\nu_{R4}}{2 \\ell_{4}^{2}} + \\nu_{12}^{2} \\left(\\frac{m_{2}}{8 \\ell_{2}^{2}} + \\frac{m_{1}}{8 \\ell_{1}^{2}}\\right) + \\nu_{12} \\left(- \\frac{\\Delta_{12} m_{2}}{2 \\ell_{2}^{2}} + \\frac{\\Delta_{12} m_{1}}{2 \\ell_{1}^{2}} - \\frac{\\Delta_{23} m_{2}}{4 \\ell_{2}^{2}} - \\frac{m_{2} \\nu_{23}}{8 \\ell_{2}^{2}}\\right) + \\nu_{23}^{2} \\left(\\frac{m_{3}}{8 \\ell_{3}^{2}} + \\frac{m_{2}}{8 \\ell_{2}^{2}}\\right) + \\nu_{23} \\left(\\frac{\\Delta_{12} m_{2}}{4 \\ell_{2}^{2}} - \\frac{\\Delta_{23} m_{3}}{2 \\ell_{3}^{2}} + \\frac{\\Delta_{23} m_{2}}{2 \\ell_{2}^{2}} - \\frac{\\Delta_{34} m_{3}}{4 \\ell_{3}^{2}} - \\frac{m_{3} \\nu_{34}}{8 \\ell_{3}^{2}}\\right) + \\nu_{34}^{2} \\left(\\frac{m_{4}}{8 \\ell_{4}^{2}} + \\frac{m_{3}}{8 \\ell_{3}^{2}}\\right) + \\nu_{34} \\left(\\frac{\\Delta_{23} m_{3}}{4 \\ell_{3}^{2}} - \\frac{\\Delta_{34} m_{4}}{2 \\ell_{4}^{2}} + \\frac{\\Delta_{34} m_{3}}{2 \\ell_{3}^{2}} - \\frac{m_{4} \\nu_{R4}}{4 \\ell_{4}^{2}}\\right) + \\nu_{L1} \\left(- \\frac{\\Delta_{12} m_{1}}{2 \\ell_{1}^{2}} - \\frac{m_{1} \\nu_{12}}{4 \\ell_{1}^{2}}\\right) + \\frac{m_{4} \\nu_{R4}^{2}}{2 \\ell_{4}^{2}} + \\frac{m_{1} \\nu_{L1}^{2}}{2 \\ell_{1}^{2}}$"
      ],
      "text/plain": [
       "Delta_12**2*(m_2/(2*ell_2**2) + m_1/(2*ell_1**2)) + Delta_12*Delta_23*m_2/(2*ell_2**2) + Delta_23**2*(m_3/(2*ell_3**2) + m_2/(2*ell_2**2)) + Delta_23*Delta_34*m_3/(2*ell_3**2) + Delta_34**2*(m_4/(2*ell_4**2) + m_3/(2*ell_3**2)) + Delta_34*m_4*nu_R4/(2*ell_4**2) + nu_12**2*(m_2/(8*ell_2**2) + m_1/(8*ell_1**2)) + nu_12*(-Delta_12*m_2/(2*ell_2**2) + Delta_12*m_1/(2*ell_1**2) - Delta_23*m_2/(4*ell_2**2) - m_2*nu_23/(8*ell_2**2)) + nu_23**2*(m_3/(8*ell_3**2) + m_2/(8*ell_2**2)) + nu_23*(Delta_12*m_2/(4*ell_2**2) - Delta_23*m_3/(2*ell_3**2) + Delta_23*m_2/(2*ell_2**2) - Delta_34*m_3/(4*ell_3**2) - m_3*nu_34/(8*ell_3**2)) + nu_34**2*(m_4/(8*ell_4**2) + m_3/(8*ell_3**2)) + nu_34*(Delta_23*m_3/(4*ell_3**2) - Delta_34*m_4/(2*ell_4**2) + Delta_34*m_3/(2*ell_3**2) - m_4*nu_R4/(4*ell_4**2)) + nu_L1*(-Delta_12*m_1/(2*ell_1**2) - m_1*nu_12/(4*ell_1**2)) + m_4*nu_R4**2/(2*ell_4**2) + m_1*nu_L1**2/(2*ell_1**2)"
      ]
     },
     "metadata": {},
     "output_type": "display_data"
    },
    {
     "name": "stdout",
     "output_type": "stream",
     "text": [
      "-----------------\n",
      "Énergie contrainte développée\n"
     ]
    },
    {
     "data": {
      "text/latex": [
       "$\\displaystyle \\frac{m_{4} \\left(\\nu_{R4}^{2} - \\nu_{R4} \\left(- \\Delta_{34} + \\frac{\\nu_{34}}{2}\\right) + \\left(- \\Delta_{34} + \\frac{\\nu_{34}}{2}\\right)^{2}\\right)}{2 \\ell_{4}^{2}} + \\frac{m_{3} \\left(\\left(- \\Delta_{23} + \\frac{\\nu_{23}}{2}\\right)^{2} - \\left(- \\Delta_{23} + \\frac{\\nu_{23}}{2}\\right) \\left(\\Delta_{34} + \\frac{\\nu_{34}}{2}\\right) + \\left(\\Delta_{34} + \\frac{\\nu_{34}}{2}\\right)^{2}\\right)}{2 \\ell_{3}^{2}} + \\frac{m_{2} \\left(\\left(- \\Delta_{12} + \\frac{\\nu_{12}}{2}\\right)^{2} - \\left(- \\Delta_{12} + \\frac{\\nu_{12}}{2}\\right) \\left(\\Delta_{23} + \\frac{\\nu_{23}}{2}\\right) + \\left(\\Delta_{23} + \\frac{\\nu_{23}}{2}\\right)^{2}\\right)}{2 \\ell_{2}^{2}} + \\frac{m_{1} \\left(\\nu_{L1}^{2} - \\nu_{L1} \\left(\\Delta_{12} + \\frac{\\nu_{12}}{2}\\right) + \\left(\\Delta_{12} + \\frac{\\nu_{12}}{2}\\right)^{2}\\right)}{2 \\ell_{1}^{2}}$"
      ],
      "text/plain": [
       "m_4*(nu_R4**2 - nu_R4*(-Delta_34 + nu_34/2) + (-Delta_34 + nu_34/2)**2)/(2*ell_4**2) + m_3*((-Delta_23 + nu_23/2)**2 - (-Delta_23 + nu_23/2)*(Delta_34 + nu_34/2) + (Delta_34 + nu_34/2)**2)/(2*ell_3**2) + m_2*((-Delta_12 + nu_12/2)**2 - (-Delta_12 + nu_12/2)*(Delta_23 + nu_23/2) + (Delta_23 + nu_23/2)**2)/(2*ell_2**2) + m_1*(nu_L1**2 - nu_L1*(Delta_12 + nu_12/2) + (Delta_12 + nu_12/2)**2)/(2*ell_1**2)"
      ]
     },
     "metadata": {},
     "output_type": "display_data"
    },
    {
     "name": "stdout",
     "output_type": "stream",
     "text": [
      "Equations algébriques à résoudre\n"
     ]
    },
    {
     "data": {
      "text/latex": [
       "$\\displaystyle \\left[\\begin{matrix}\\frac{m_{2} \\left(2 \\Delta_{12} + \\Delta_{23} - \\nu_{12} + \\frac{\\nu_{23}}{2}\\right)}{2 \\ell_{2}^{2}} + \\frac{m_{1} \\left(2 \\Delta_{12} + \\nu_{12} - \\nu_{L1}\\right)}{2 \\ell_{1}^{2}}\\\\\\frac{m_{3} \\left(2 \\Delta_{23} + \\Delta_{34} - \\nu_{23} + \\frac{\\nu_{34}}{2}\\right)}{2 \\ell_{3}^{2}} + \\frac{m_{2} \\left(\\Delta_{12} + 2 \\Delta_{23} - \\frac{\\nu_{12}}{2} + \\nu_{23}\\right)}{2 \\ell_{2}^{2}}\\\\\\frac{m_{4} \\left(2 \\Delta_{34} - \\nu_{34} + \\nu_{R4}\\right)}{2 \\ell_{4}^{2}} + \\frac{m_{3} \\left(\\Delta_{23} + 2 \\Delta_{34} - \\frac{\\nu_{23}}{2} + \\nu_{34}\\right)}{2 \\ell_{3}^{2}}\\end{matrix}\\right]$"
      ],
      "text/plain": [
       "Matrix([\n",
       "[             m_2*(2*Delta_12 + Delta_23 - nu_12 + nu_23/2)/(2*ell_2**2) + m_1*(2*Delta_12 + nu_12 - nu_L1)/(2*ell_1**2)],\n",
       "[m_3*(2*Delta_23 + Delta_34 - nu_23 + nu_34/2)/(2*ell_3**2) + m_2*(Delta_12 + 2*Delta_23 - nu_12/2 + nu_23)/(2*ell_2**2)],\n",
       "[             m_4*(2*Delta_34 - nu_34 + nu_R4)/(2*ell_4**2) + m_3*(Delta_23 + 2*Delta_34 - nu_23/2 + nu_34)/(2*ell_3**2)]])"
      ]
     },
     "metadata": {},
     "output_type": "display_data"
    }
   ],
   "source": [
    "def Ham_inertiel(X):\n",
    "    Nt = int(len(X)/5)\n",
    "    Hi = 0\n",
    "    for i in range(Nt):\n",
    "        l0 = sy.symbols('ell_{}'.format(i+1), **PPTY_PHY_PARAMS)\n",
    "        subX = [X[2*i],X[2*i+1],X[2*Nt+i], X[3*Nt+i],X[4*Nt+i]]\n",
    "        #display(subX)\n",
    "        Hi += sy.Rational(1,2)*subX[-1]/l0**2*(subX[0]**2 + subX[1]**2 - subX[0]*subX[1])\n",
    "    return Hi\n",
    "\n",
    "print(\"-----------------\")\n",
    "print(\"Énergie classique\")\n",
    "display(Ham_inertiel(X))\n",
    "print(\"-----------------\")\n",
    "print(\"Énergie contrainte\")\n",
    "display(Ham_inertiel(M.inv()*Z).expand().collect(Z[0:2*N]+Z[Nx-N_lambda::]))\n",
    "#print(sy.latex(Ham_inertiel(M.inv()*Z).expand().collect([*m_vec])))\n",
    "print(\"-----------------\")\n",
    "print(\"Énergie contrainte développée\")\n",
    "display(Ham_inertiel(M.inv()*Z))\n",
    "print(\"Equations algébriques à résoudre\")\n",
    "Z2 = sy.Matrix(Z[Nx-N_lambda::])\n",
    "display(Ham_inertiel(M.inv()*Z).diff(Z2))"
   ]
  },
  {
   "cell_type": "markdown",
   "metadata": {},
   "source": [
    "## Energie inertielle en expression matricielle"
   ]
  },
  {
   "cell_type": "code",
   "execution_count": 12,
   "metadata": {},
   "outputs": [
    {
     "name": "stdout",
     "output_type": "stream",
     "text": [
      "Vecteur des états inertiels: écoulement axial\n"
     ]
    },
    {
     "data": {
      "text/latex": [
       "$\\displaystyle \\left[\\begin{matrix}\\nu_{L1}\\\\\\nu_{R1}\\\\\\nu_{L2}\\\\\\nu_{R2}\\\\\\nu_{L3}\\\\\\nu_{R3}\\\\\\nu_{L4}\\\\\\nu_{R4}\\end{matrix}\\right]$"
      ],
      "text/plain": [
       "Matrix([\n",
       "[nu_L1],\n",
       "[nu_R1],\n",
       "[nu_L2],\n",
       "[nu_R2],\n",
       "[nu_L3],\n",
       "[nu_R3],\n",
       "[nu_L4],\n",
       "[nu_R4]])"
      ]
     },
     "metadata": {},
     "output_type": "display_data"
    },
    {
     "name": "stdout",
     "output_type": "stream",
     "text": [
      "-----------------\n",
      "Matrice énergie inertielle\n"
     ]
    },
    {
     "data": {
      "text/latex": [
       "$\\displaystyle \\left[\\begin{array}{cccccccccccccccccccc}\\frac{m_{1}}{\\ell_{1}^{2}} & - \\frac{m_{1}}{2 \\ell_{1}^{2}} & 0 & 0 & 0 & 0 & 0 & 0 & 0 & 0 & 0 & 0 & 0 & 0 & 0 & 0 & 0 & 0 & 0 & 0\\\\- \\frac{m_{1}}{2 \\ell_{1}^{2}} & \\frac{m_{1}}{\\ell_{1}^{2}} & 0 & 0 & 0 & 0 & 0 & 0 & 0 & 0 & 0 & 0 & 0 & 0 & 0 & 0 & 0 & 0 & 0 & 0\\\\0 & 0 & \\frac{m_{2}}{\\ell_{2}^{2}} & - \\frac{m_{2}}{2 \\ell_{2}^{2}} & 0 & 0 & 0 & 0 & 0 & 0 & 0 & 0 & 0 & 0 & 0 & 0 & 0 & 0 & 0 & 0\\\\0 & 0 & - \\frac{m_{2}}{2 \\ell_{2}^{2}} & \\frac{m_{2}}{\\ell_{2}^{2}} & 0 & 0 & 0 & 0 & 0 & 0 & 0 & 0 & 0 & 0 & 0 & 0 & 0 & 0 & 0 & 0\\\\0 & 0 & 0 & 0 & \\frac{m_{3}}{\\ell_{3}^{2}} & - \\frac{m_{3}}{2 \\ell_{3}^{2}} & 0 & 0 & 0 & 0 & 0 & 0 & 0 & 0 & 0 & 0 & 0 & 0 & 0 & 0\\\\0 & 0 & 0 & 0 & - \\frac{m_{3}}{2 \\ell_{3}^{2}} & \\frac{m_{3}}{\\ell_{3}^{2}} & 0 & 0 & 0 & 0 & 0 & 0 & 0 & 0 & 0 & 0 & 0 & 0 & 0 & 0\\\\0 & 0 & 0 & 0 & 0 & 0 & \\frac{m_{4}}{\\ell_{4}^{2}} & - \\frac{m_{4}}{2 \\ell_{4}^{2}} & 0 & 0 & 0 & 0 & 0 & 0 & 0 & 0 & 0 & 0 & 0 & 0\\\\0 & 0 & 0 & 0 & 0 & 0 & - \\frac{m_{4}}{2 \\ell_{4}^{2}} & \\frac{m_{4}}{\\ell_{4}^{2}} & 0 & 0 & 0 & 0 & 0 & 0 & 0 & 0 & 0 & 0 & 0 & 0\\\\0 & 0 & 0 & 0 & 0 & 0 & 0 & 0 & 0 & 0 & 0 & 0 & 0 & 0 & 0 & 0 & 0 & 0 & 0 & 0\\\\0 & 0 & 0 & 0 & 0 & 0 & 0 & 0 & 0 & 0 & 0 & 0 & 0 & 0 & 0 & 0 & 0 & 0 & 0 & 0\\\\0 & 0 & 0 & 0 & 0 & 0 & 0 & 0 & 0 & 0 & 0 & 0 & 0 & 0 & 0 & 0 & 0 & 0 & 0 & 0\\\\0 & 0 & 0 & 0 & 0 & 0 & 0 & 0 & 0 & 0 & 0 & 0 & 0 & 0 & 0 & 0 & 0 & 0 & 0 & 0\\\\0 & 0 & 0 & 0 & 0 & 0 & 0 & 0 & 0 & 0 & 0 & 0 & 0 & 0 & 0 & 0 & 0 & 0 & 0 & 0\\\\0 & 0 & 0 & 0 & 0 & 0 & 0 & 0 & 0 & 0 & 0 & 0 & 0 & 0 & 0 & 0 & 0 & 0 & 0 & 0\\\\0 & 0 & 0 & 0 & 0 & 0 & 0 & 0 & 0 & 0 & 0 & 0 & 0 & 0 & 0 & 0 & 0 & 0 & 0 & 0\\\\0 & 0 & 0 & 0 & 0 & 0 & 0 & 0 & 0 & 0 & 0 & 0 & 0 & 0 & 0 & 0 & 0 & 0 & 0 & 0\\\\0 & 0 & 0 & 0 & 0 & 0 & 0 & 0 & 0 & 0 & 0 & 0 & 0 & 0 & 0 & 0 & 0 & 0 & 0 & 0\\\\0 & 0 & 0 & 0 & 0 & 0 & 0 & 0 & 0 & 0 & 0 & 0 & 0 & 0 & 0 & 0 & 0 & 0 & 0 & 0\\\\0 & 0 & 0 & 0 & 0 & 0 & 0 & 0 & 0 & 0 & 0 & 0 & 0 & 0 & 0 & 0 & 0 & 0 & 0 & 0\\\\0 & 0 & 0 & 0 & 0 & 0 & 0 & 0 & 0 & 0 & 0 & 0 & 0 & 0 & 0 & 0 & 0 & 0 & 0 & 0\\end{array}\\right]$"
      ],
      "text/plain": [
       "Matrix([\n",
       "[     m_1/ell_1**2, -m_1/(2*ell_1**2),                 0,                 0,                 0,                 0,                 0,                 0, 0, 0, 0, 0, 0, 0, 0, 0, 0, 0, 0, 0],\n",
       "[-m_1/(2*ell_1**2),      m_1/ell_1**2,                 0,                 0,                 0,                 0,                 0,                 0, 0, 0, 0, 0, 0, 0, 0, 0, 0, 0, 0, 0],\n",
       "[                0,                 0,      m_2/ell_2**2, -m_2/(2*ell_2**2),                 0,                 0,                 0,                 0, 0, 0, 0, 0, 0, 0, 0, 0, 0, 0, 0, 0],\n",
       "[                0,                 0, -m_2/(2*ell_2**2),      m_2/ell_2**2,                 0,                 0,                 0,                 0, 0, 0, 0, 0, 0, 0, 0, 0, 0, 0, 0, 0],\n",
       "[                0,                 0,                 0,                 0,      m_3/ell_3**2, -m_3/(2*ell_3**2),                 0,                 0, 0, 0, 0, 0, 0, 0, 0, 0, 0, 0, 0, 0],\n",
       "[                0,                 0,                 0,                 0, -m_3/(2*ell_3**2),      m_3/ell_3**2,                 0,                 0, 0, 0, 0, 0, 0, 0, 0, 0, 0, 0, 0, 0],\n",
       "[                0,                 0,                 0,                 0,                 0,                 0,      m_4/ell_4**2, -m_4/(2*ell_4**2), 0, 0, 0, 0, 0, 0, 0, 0, 0, 0, 0, 0],\n",
       "[                0,                 0,                 0,                 0,                 0,                 0, -m_4/(2*ell_4**2),      m_4/ell_4**2, 0, 0, 0, 0, 0, 0, 0, 0, 0, 0, 0, 0],\n",
       "[                0,                 0,                 0,                 0,                 0,                 0,                 0,                 0, 0, 0, 0, 0, 0, 0, 0, 0, 0, 0, 0, 0],\n",
       "[                0,                 0,                 0,                 0,                 0,                 0,                 0,                 0, 0, 0, 0, 0, 0, 0, 0, 0, 0, 0, 0, 0],\n",
       "[                0,                 0,                 0,                 0,                 0,                 0,                 0,                 0, 0, 0, 0, 0, 0, 0, 0, 0, 0, 0, 0, 0],\n",
       "[                0,                 0,                 0,                 0,                 0,                 0,                 0,                 0, 0, 0, 0, 0, 0, 0, 0, 0, 0, 0, 0, 0],\n",
       "[                0,                 0,                 0,                 0,                 0,                 0,                 0,                 0, 0, 0, 0, 0, 0, 0, 0, 0, 0, 0, 0, 0],\n",
       "[                0,                 0,                 0,                 0,                 0,                 0,                 0,                 0, 0, 0, 0, 0, 0, 0, 0, 0, 0, 0, 0, 0],\n",
       "[                0,                 0,                 0,                 0,                 0,                 0,                 0,                 0, 0, 0, 0, 0, 0, 0, 0, 0, 0, 0, 0, 0],\n",
       "[                0,                 0,                 0,                 0,                 0,                 0,                 0,                 0, 0, 0, 0, 0, 0, 0, 0, 0, 0, 0, 0, 0],\n",
       "[                0,                 0,                 0,                 0,                 0,                 0,                 0,                 0, 0, 0, 0, 0, 0, 0, 0, 0, 0, 0, 0, 0],\n",
       "[                0,                 0,                 0,                 0,                 0,                 0,                 0,                 0, 0, 0, 0, 0, 0, 0, 0, 0, 0, 0, 0, 0],\n",
       "[                0,                 0,                 0,                 0,                 0,                 0,                 0,                 0, 0, 0, 0, 0, 0, 0, 0, 0, 0, 0, 0, 0],\n",
       "[                0,                 0,                 0,                 0,                 0,                 0,                 0,                 0, 0, 0, 0, 0, 0, 0, 0, 0, 0, 0, 0, 0]])"
      ]
     },
     "metadata": {},
     "output_type": "display_data"
    },
    {
     "name": "stdout",
     "output_type": "stream",
     "text": [
      "-----------------\n",
      "Matrice énergie inertielle contrainte\n"
     ]
    },
    {
     "data": {
      "text/latex": [
       "$\\displaystyle \\left[\\begin{array}{cccccccccccccccccccc}\\frac{m_{1}}{\\ell_{1}^{2}} & - \\frac{m_{1}}{4 \\ell_{1}^{2}} & 0 & 0 & 0 & 0 & 0 & 0 & 0 & 0 & 0 & 0 & 0 & 0 & 0 & 0 & 0 & - \\frac{m_{1}}{2 \\ell_{1}^{2}} & 0 & 0\\\\- \\frac{m_{1}}{4 \\ell_{1}^{2}} & \\frac{m_{2}}{4 \\ell_{2}^{2}} + \\frac{m_{1}}{4 \\ell_{1}^{2}} & - \\frac{m_{2}}{8 \\ell_{2}^{2}} & 0 & 0 & 0 & 0 & 0 & 0 & 0 & 0 & 0 & 0 & 0 & 0 & 0 & 0 & - \\frac{m_{2}}{2 \\ell_{2}^{2}} + \\frac{m_{1}}{2 \\ell_{1}^{2}} & - \\frac{m_{2}}{4 \\ell_{2}^{2}} & 0\\\\0 & - \\frac{m_{2}}{8 \\ell_{2}^{2}} & \\frac{m_{3}}{4 \\ell_{3}^{2}} + \\frac{m_{2}}{4 \\ell_{2}^{2}} & - \\frac{m_{3}}{8 \\ell_{3}^{2}} & 0 & 0 & 0 & 0 & 0 & 0 & 0 & 0 & 0 & 0 & 0 & 0 & 0 & \\frac{m_{2}}{4 \\ell_{2}^{2}} & - \\frac{m_{3}}{2 \\ell_{3}^{2}} + \\frac{m_{2}}{2 \\ell_{2}^{2}} & - \\frac{m_{3}}{4 \\ell_{3}^{2}}\\\\0 & 0 & - \\frac{m_{3}}{8 \\ell_{3}^{2}} & \\frac{m_{4}}{4 \\ell_{4}^{2}} + \\frac{m_{3}}{4 \\ell_{3}^{2}} & - \\frac{m_{4}}{4 \\ell_{4}^{2}} & 0 & 0 & 0 & 0 & 0 & 0 & 0 & 0 & 0 & 0 & 0 & 0 & 0 & \\frac{m_{3}}{4 \\ell_{3}^{2}} & - \\frac{m_{4}}{2 \\ell_{4}^{2}} + \\frac{m_{3}}{2 \\ell_{3}^{2}}\\\\0 & 0 & 0 & - \\frac{m_{4}}{4 \\ell_{4}^{2}} & \\frac{m_{4}}{\\ell_{4}^{2}} & 0 & 0 & 0 & 0 & 0 & 0 & 0 & 0 & 0 & 0 & 0 & 0 & 0 & 0 & \\frac{m_{4}}{2 \\ell_{4}^{2}}\\\\0 & 0 & 0 & 0 & 0 & 0 & 0 & 0 & 0 & 0 & 0 & 0 & 0 & 0 & 0 & 0 & 0 & 0 & 0 & 0\\\\0 & 0 & 0 & 0 & 0 & 0 & 0 & 0 & 0 & 0 & 0 & 0 & 0 & 0 & 0 & 0 & 0 & 0 & 0 & 0\\\\0 & 0 & 0 & 0 & 0 & 0 & 0 & 0 & 0 & 0 & 0 & 0 & 0 & 0 & 0 & 0 & 0 & 0 & 0 & 0\\\\0 & 0 & 0 & 0 & 0 & 0 & 0 & 0 & 0 & 0 & 0 & 0 & 0 & 0 & 0 & 0 & 0 & 0 & 0 & 0\\\\0 & 0 & 0 & 0 & 0 & 0 & 0 & 0 & 0 & 0 & 0 & 0 & 0 & 0 & 0 & 0 & 0 & 0 & 0 & 0\\\\0 & 0 & 0 & 0 & 0 & 0 & 0 & 0 & 0 & 0 & 0 & 0 & 0 & 0 & 0 & 0 & 0 & 0 & 0 & 0\\\\0 & 0 & 0 & 0 & 0 & 0 & 0 & 0 & 0 & 0 & 0 & 0 & 0 & 0 & 0 & 0 & 0 & 0 & 0 & 0\\\\0 & 0 & 0 & 0 & 0 & 0 & 0 & 0 & 0 & 0 & 0 & 0 & 0 & 0 & 0 & 0 & 0 & 0 & 0 & 0\\\\0 & 0 & 0 & 0 & 0 & 0 & 0 & 0 & 0 & 0 & 0 & 0 & 0 & 0 & 0 & 0 & 0 & 0 & 0 & 0\\\\0 & 0 & 0 & 0 & 0 & 0 & 0 & 0 & 0 & 0 & 0 & 0 & 0 & 0 & 0 & 0 & 0 & 0 & 0 & 0\\\\0 & 0 & 0 & 0 & 0 & 0 & 0 & 0 & 0 & 0 & 0 & 0 & 0 & 0 & 0 & 0 & 0 & 0 & 0 & 0\\\\0 & 0 & 0 & 0 & 0 & 0 & 0 & 0 & 0 & 0 & 0 & 0 & 0 & 0 & 0 & 0 & 0 & 0 & 0 & 0\\\\- \\frac{m_{1}}{2 \\ell_{1}^{2}} & - \\frac{m_{2}}{2 \\ell_{2}^{2}} + \\frac{m_{1}}{2 \\ell_{1}^{2}} & \\frac{m_{2}}{4 \\ell_{2}^{2}} & 0 & 0 & 0 & 0 & 0 & 0 & 0 & 0 & 0 & 0 & 0 & 0 & 0 & 0 & \\frac{m_{2}}{\\ell_{2}^{2}} + \\frac{m_{1}}{\\ell_{1}^{2}} & \\frac{m_{2}}{2 \\ell_{2}^{2}} & 0\\\\0 & - \\frac{m_{2}}{4 \\ell_{2}^{2}} & - \\frac{m_{3}}{2 \\ell_{3}^{2}} + \\frac{m_{2}}{2 \\ell_{2}^{2}} & \\frac{m_{3}}{4 \\ell_{3}^{2}} & 0 & 0 & 0 & 0 & 0 & 0 & 0 & 0 & 0 & 0 & 0 & 0 & 0 & \\frac{m_{2}}{2 \\ell_{2}^{2}} & \\frac{m_{3}}{\\ell_{3}^{2}} + \\frac{m_{2}}{\\ell_{2}^{2}} & \\frac{m_{3}}{2 \\ell_{3}^{2}}\\\\0 & 0 & - \\frac{m_{3}}{4 \\ell_{3}^{2}} & - \\frac{m_{4}}{2 \\ell_{4}^{2}} + \\frac{m_{3}}{2 \\ell_{3}^{2}} & \\frac{m_{4}}{2 \\ell_{4}^{2}} & 0 & 0 & 0 & 0 & 0 & 0 & 0 & 0 & 0 & 0 & 0 & 0 & 0 & \\frac{m_{3}}{2 \\ell_{3}^{2}} & \\frac{m_{4}}{\\ell_{4}^{2}} + \\frac{m_{3}}{\\ell_{3}^{2}}\\end{array}\\right]$"
      ],
      "text/plain": [
       "Matrix([\n",
       "[     m_1/ell_1**2,                    -m_1/(4*ell_1**2),                                    0,                                    0,                 0, 0, 0, 0, 0, 0, 0, 0, 0, 0, 0, 0, 0,                    -m_1/(2*ell_1**2),                                    0,                                    0],\n",
       "[-m_1/(4*ell_1**2),  m_2/(4*ell_2**2) + m_1/(4*ell_1**2),                    -m_2/(8*ell_2**2),                                    0,                 0, 0, 0, 0, 0, 0, 0, 0, 0, 0, 0, 0, 0, -m_2/(2*ell_2**2) + m_1/(2*ell_1**2),                    -m_2/(4*ell_2**2),                                    0],\n",
       "[                0,                    -m_2/(8*ell_2**2),  m_3/(4*ell_3**2) + m_2/(4*ell_2**2),                    -m_3/(8*ell_3**2),                 0, 0, 0, 0, 0, 0, 0, 0, 0, 0, 0, 0, 0,                     m_2/(4*ell_2**2), -m_3/(2*ell_3**2) + m_2/(2*ell_2**2),                    -m_3/(4*ell_3**2)],\n",
       "[                0,                                    0,                    -m_3/(8*ell_3**2),  m_4/(4*ell_4**2) + m_3/(4*ell_3**2), -m_4/(4*ell_4**2), 0, 0, 0, 0, 0, 0, 0, 0, 0, 0, 0, 0,                                    0,                     m_3/(4*ell_3**2), -m_4/(2*ell_4**2) + m_3/(2*ell_3**2)],\n",
       "[                0,                                    0,                                    0,                    -m_4/(4*ell_4**2),      m_4/ell_4**2, 0, 0, 0, 0, 0, 0, 0, 0, 0, 0, 0, 0,                                    0,                                    0,                     m_4/(2*ell_4**2)],\n",
       "[                0,                                    0,                                    0,                                    0,                 0, 0, 0, 0, 0, 0, 0, 0, 0, 0, 0, 0, 0,                                    0,                                    0,                                    0],\n",
       "[                0,                                    0,                                    0,                                    0,                 0, 0, 0, 0, 0, 0, 0, 0, 0, 0, 0, 0, 0,                                    0,                                    0,                                    0],\n",
       "[                0,                                    0,                                    0,                                    0,                 0, 0, 0, 0, 0, 0, 0, 0, 0, 0, 0, 0, 0,                                    0,                                    0,                                    0],\n",
       "[                0,                                    0,                                    0,                                    0,                 0, 0, 0, 0, 0, 0, 0, 0, 0, 0, 0, 0, 0,                                    0,                                    0,                                    0],\n",
       "[                0,                                    0,                                    0,                                    0,                 0, 0, 0, 0, 0, 0, 0, 0, 0, 0, 0, 0, 0,                                    0,                                    0,                                    0],\n",
       "[                0,                                    0,                                    0,                                    0,                 0, 0, 0, 0, 0, 0, 0, 0, 0, 0, 0, 0, 0,                                    0,                                    0,                                    0],\n",
       "[                0,                                    0,                                    0,                                    0,                 0, 0, 0, 0, 0, 0, 0, 0, 0, 0, 0, 0, 0,                                    0,                                    0,                                    0],\n",
       "[                0,                                    0,                                    0,                                    0,                 0, 0, 0, 0, 0, 0, 0, 0, 0, 0, 0, 0, 0,                                    0,                                    0,                                    0],\n",
       "[                0,                                    0,                                    0,                                    0,                 0, 0, 0, 0, 0, 0, 0, 0, 0, 0, 0, 0, 0,                                    0,                                    0,                                    0],\n",
       "[                0,                                    0,                                    0,                                    0,                 0, 0, 0, 0, 0, 0, 0, 0, 0, 0, 0, 0, 0,                                    0,                                    0,                                    0],\n",
       "[                0,                                    0,                                    0,                                    0,                 0, 0, 0, 0, 0, 0, 0, 0, 0, 0, 0, 0, 0,                                    0,                                    0,                                    0],\n",
       "[                0,                                    0,                                    0,                                    0,                 0, 0, 0, 0, 0, 0, 0, 0, 0, 0, 0, 0, 0,                                    0,                                    0,                                    0],\n",
       "[-m_1/(2*ell_1**2), -m_2/(2*ell_2**2) + m_1/(2*ell_1**2),                     m_2/(4*ell_2**2),                                    0,                 0, 0, 0, 0, 0, 0, 0, 0, 0, 0, 0, 0, 0,          m_2/ell_2**2 + m_1/ell_1**2,                     m_2/(2*ell_2**2),                                    0],\n",
       "[                0,                    -m_2/(4*ell_2**2), -m_3/(2*ell_3**2) + m_2/(2*ell_2**2),                     m_3/(4*ell_3**2),                 0, 0, 0, 0, 0, 0, 0, 0, 0, 0, 0, 0, 0,                     m_2/(2*ell_2**2),          m_3/ell_3**2 + m_2/ell_2**2,                     m_3/(2*ell_3**2)],\n",
       "[                0,                                    0,                    -m_3/(4*ell_3**2), -m_4/(2*ell_4**2) + m_3/(2*ell_3**2),  m_4/(2*ell_4**2), 0, 0, 0, 0, 0, 0, 0, 0, 0, 0, 0, 0,                                    0,                     m_3/(2*ell_3**2),          m_4/ell_4**2 + m_3/ell_3**2]])"
      ]
     },
     "metadata": {},
     "output_type": "display_data"
    },
    {
     "name": "stdout",
     "output_type": "stream",
     "text": [
      "-----------------\n",
      "Energie calculée\n"
     ]
    },
    {
     "data": {
      "text/latex": [
       "$\\displaystyle m_{1} \\left(\\frac{\\Delta_{12}^{2}}{\\ell_{1}^{2}} + \\frac{\\Delta_{12} \\nu_{12}}{\\ell_{1}^{2}} - \\frac{\\Delta_{12} \\nu_{L1}}{\\ell_{1}^{2}} + \\frac{\\nu_{12}^{2}}{4 \\ell_{1}^{2}} - \\frac{\\nu_{12} \\nu_{L1}}{2 \\ell_{1}^{2}} + \\frac{\\nu_{L1}^{2}}{\\ell_{1}^{2}}\\right) + m_{2} \\left(\\frac{\\Delta_{12}^{2}}{\\ell_{2}^{2}} + \\frac{\\Delta_{12} \\Delta_{23}}{\\ell_{2}^{2}} - \\frac{\\Delta_{12} \\nu_{12}}{\\ell_{2}^{2}} + \\frac{\\Delta_{12} \\nu_{23}}{2 \\ell_{2}^{2}} + \\frac{\\Delta_{23}^{2}}{\\ell_{2}^{2}} - \\frac{\\Delta_{23} \\nu_{12}}{2 \\ell_{2}^{2}} + \\frac{\\Delta_{23} \\nu_{23}}{\\ell_{2}^{2}} + \\frac{\\nu_{12}^{2}}{4 \\ell_{2}^{2}} - \\frac{\\nu_{12} \\nu_{23}}{4 \\ell_{2}^{2}} + \\frac{\\nu_{23}^{2}}{4 \\ell_{2}^{2}}\\right) + m_{3} \\left(\\frac{\\Delta_{23}^{2}}{\\ell_{3}^{2}} + \\frac{\\Delta_{23} \\Delta_{34}}{\\ell_{3}^{2}} - \\frac{\\Delta_{23} \\nu_{23}}{\\ell_{3}^{2}} + \\frac{\\Delta_{23} \\nu_{34}}{2 \\ell_{3}^{2}} + \\frac{\\Delta_{34}^{2}}{\\ell_{3}^{2}} - \\frac{\\Delta_{34} \\nu_{23}}{2 \\ell_{3}^{2}} + \\frac{\\Delta_{34} \\nu_{34}}{\\ell_{3}^{2}} + \\frac{\\nu_{23}^{2}}{4 \\ell_{3}^{2}} - \\frac{\\nu_{23} \\nu_{34}}{4 \\ell_{3}^{2}} + \\frac{\\nu_{34}^{2}}{4 \\ell_{3}^{2}}\\right) + m_{4} \\left(\\frac{\\Delta_{34}^{2}}{\\ell_{4}^{2}} - \\frac{\\Delta_{34} \\nu_{34}}{\\ell_{4}^{2}} + \\frac{\\Delta_{34} \\nu_{R4}}{\\ell_{4}^{2}} + \\frac{\\nu_{34}^{2}}{4 \\ell_{4}^{2}} - \\frac{\\nu_{34} \\nu_{R4}}{2 \\ell_{4}^{2}} + \\frac{\\nu_{R4}^{2}}{\\ell_{4}^{2}}\\right)$"
      ],
      "text/plain": [
       "m_1*(Delta_12**2/ell_1**2 + Delta_12*nu_12/ell_1**2 - Delta_12*nu_L1/ell_1**2 + nu_12**2/(4*ell_1**2) - nu_12*nu_L1/(2*ell_1**2) + nu_L1**2/ell_1**2) + m_2*(Delta_12**2/ell_2**2 + Delta_12*Delta_23/ell_2**2 - Delta_12*nu_12/ell_2**2 + Delta_12*nu_23/(2*ell_2**2) + Delta_23**2/ell_2**2 - Delta_23*nu_12/(2*ell_2**2) + Delta_23*nu_23/ell_2**2 + nu_12**2/(4*ell_2**2) - nu_12*nu_23/(4*ell_2**2) + nu_23**2/(4*ell_2**2)) + m_3*(Delta_23**2/ell_3**2 + Delta_23*Delta_34/ell_3**2 - Delta_23*nu_23/ell_3**2 + Delta_23*nu_34/(2*ell_3**2) + Delta_34**2/ell_3**2 - Delta_34*nu_23/(2*ell_3**2) + Delta_34*nu_34/ell_3**2 + nu_23**2/(4*ell_3**2) - nu_23*nu_34/(4*ell_3**2) + nu_34**2/(4*ell_3**2)) + m_4*(Delta_34**2/ell_4**2 - Delta_34*nu_34/ell_4**2 + Delta_34*nu_R4/ell_4**2 + nu_34**2/(4*ell_4**2) - nu_34*nu_R4/(2*ell_4**2) + nu_R4**2/ell_4**2)"
      ]
     },
     "metadata": {},
     "output_type": "display_data"
    }
   ],
   "source": [
    "Xi = sy.Matrix(X[0:2*N])\n",
    "\n",
    "print(\"Vecteur des états inertiels: écoulement axial\")\n",
    "display(Xi)\n",
    "Q_tot = sy.zeros(Nx)\n",
    "\n",
    "for i in range(N):\n",
    "    l0 = sy.symbols('ell_{}'.format(i+1), **PPTY_PHY_PARAMS)\n",
    "    Qi = m_vec[i]/(l0**2)*sy.Matrix([[1,sy.Rational(-1,2)],[sy.Rational(-1,2),1]])\n",
    "    Q_tot[2*i:2*i+2, 2*i:2*i+2] = Qi\n",
    "\n",
    "# Matrice de l'énergie contrainte\n",
    "Q_c = M.inv().T*Q_tot*M.inv()\n",
    "\n",
    "print(\"-----------------\")\n",
    "print(\"Matrice énergie inertielle\")\n",
    "display(Q_tot)\n",
    "print(\"-----------------\")\n",
    "print(\"Matrice énergie inertielle contrainte\")\n",
    "display(Q_c)\n",
    "print('-----------------')\n",
    "print(\"Energie calculée\")\n",
    "display((Z.T*Q_c*Z)[0].expand().collect([*m_vec]))"
   ]
  },
  {
   "cell_type": "markdown",
   "metadata": {},
   "source": [
    "Les $N_\\lambda$ dernières lignes sont celles qui nous intéressent puisque'elles donnent le gradient en fonction des variables $\\Delta$. Ces lignes peuvent être décomposées en deux matrices: \n",
    "   - le bloc tout en bas à gauche, que l'on nommera $Q_{12}^\\intercal$\n",
    "   - la matrice carrée en bas à droite, que l'on va inverser (mon dieu, ne serait-ce pas des masses équivalentes?) que l'on nommera $Q_{22}$"
   ]
  },
  {
   "cell_type": "code",
   "execution_count": 13,
   "metadata": {
    "scrolled": true
   },
   "outputs": [
    {
     "data": {
      "text/latex": [
       "$\\displaystyle \\left[\\begin{matrix}- \\frac{m_{1}}{2 \\ell_{1}^{2}} & - \\frac{m_{2}}{2 \\ell_{2}^{2}} + \\frac{m_{1}}{2 \\ell_{1}^{2}} & \\frac{m_{2}}{4 \\ell_{2}^{2}} & 0 & 0\\\\0 & - \\frac{m_{2}}{4 \\ell_{2}^{2}} & - \\frac{m_{3}}{2 \\ell_{3}^{2}} + \\frac{m_{2}}{2 \\ell_{2}^{2}} & \\frac{m_{3}}{4 \\ell_{3}^{2}} & 0\\\\0 & 0 & - \\frac{m_{3}}{4 \\ell_{3}^{2}} & - \\frac{m_{4}}{2 \\ell_{4}^{2}} + \\frac{m_{3}}{2 \\ell_{3}^{2}} & \\frac{m_{4}}{2 \\ell_{4}^{2}}\\end{matrix}\\right]$"
      ],
      "text/plain": [
       "Matrix([\n",
       "[-m_1/(2*ell_1**2), -m_2/(2*ell_2**2) + m_1/(2*ell_1**2),                     m_2/(4*ell_2**2),                                    0,                0],\n",
       "[                0,                    -m_2/(4*ell_2**2), -m_3/(2*ell_3**2) + m_2/(2*ell_2**2),                     m_3/(4*ell_3**2),                0],\n",
       "[                0,                                    0,                    -m_3/(4*ell_3**2), -m_4/(2*ell_4**2) + m_3/(2*ell_3**2), m_4/(2*ell_4**2)]])"
      ]
     },
     "metadata": {},
     "output_type": "display_data"
    },
    {
     "data": {
      "text/latex": [
       "$\\displaystyle \\left[\\begin{matrix}\\frac{m_{2}}{\\ell_{2}^{2}} + \\frac{m_{1}}{\\ell_{1}^{2}} & \\frac{m_{2}}{2 \\ell_{2}^{2}} & 0\\\\\\frac{m_{2}}{2 \\ell_{2}^{2}} & \\frac{m_{3}}{\\ell_{3}^{2}} + \\frac{m_{2}}{\\ell_{2}^{2}} & \\frac{m_{3}}{2 \\ell_{3}^{2}}\\\\0 & \\frac{m_{3}}{2 \\ell_{3}^{2}} & \\frac{m_{4}}{\\ell_{4}^{2}} + \\frac{m_{3}}{\\ell_{3}^{2}}\\end{matrix}\\right]$"
      ],
      "text/plain": [
       "Matrix([\n",
       "[m_2/ell_2**2 + m_1/ell_1**2,            m_2/(2*ell_2**2),                           0],\n",
       "[           m_2/(2*ell_2**2), m_3/ell_3**2 + m_2/ell_2**2,            m_3/(2*ell_3**2)],\n",
       "[                          0,            m_3/(2*ell_3**2), m_4/ell_4**2 + m_3/ell_3**2]])"
      ]
     },
     "metadata": {},
     "output_type": "display_data"
    }
   ],
   "source": [
    "Q12 = Q_c[Nx-N_lambda::,0:N+1]\n",
    "Q22 = Q_c[Nx-N_lambda::, Nx-N_lambda::]\n",
    "display(Q12,Q22)"
   ]
  },
  {
   "cell_type": "code",
   "execution_count": 14,
   "metadata": {},
   "outputs": [],
   "source": [
    "#Q22inv = Q22.inv()\n",
    "f = lambda mat : mat.simplify()"
   ]
  },
  {
   "cell_type": "code",
   "execution_count": 15,
   "metadata": {},
   "outputs": [
    {
     "ename": "SyntaxError",
     "evalue": "invalid syntax (<ipython-input-15-514d89792f50>, line 2)",
     "output_type": "error",
     "traceback": [
      "\u001b[0;36m  File \u001b[0;32m\"<ipython-input-15-514d89792f50>\"\u001b[0;36m, line \u001b[0;32m2\u001b[0m\n\u001b[0;31m    assert False,\u001b[0m\n\u001b[0m                 ^\u001b[0m\n\u001b[0;31mSyntaxError\u001b[0m\u001b[0;31m:\u001b[0m invalid syntax\n"
     ]
    }
   ],
   "source": [
    "#Q22inv\n",
    "assert False,"
   ]
  },
  {
   "cell_type": "markdown",
   "metadata": {},
   "source": [
    "Au passage, $Q_{12}$ peut être décomposé en une partie anti symétrique et une partie diagonale."
   ]
  },
  {
   "cell_type": "markdown",
   "metadata": {
    "scrolled": false
   },
   "source": [
    "## Manipulations\n",
    "Inverser directement la matrice Q22 est envisageable pour 2 tronçons, ou 3. Cependant, la matrice est complètement pleine et on est vite coincé.\n",
    "\n",
    "On va donc tenté de simplifier le problème, notamment en utilisant des méthodes adaptées.\n",
    "\n",
    "### Décomposition LU\n",
    "$PA = LU$ avec:\n",
    "    1. $L$ une matrice triangulaire inférieure avec identité à la diagonale\n",
    "    2. $U$ est triangulaire supérieure\n",
    "    3. $P$ est \"row swap index pairs\""
   ]
  },
  {
   "cell_type": "code",
   "execution_count": null,
   "metadata": {},
   "outputs": [],
   "source": [
    "L,U, Perm = Q22.LUdecomposition()"
   ]
  },
  {
   "cell_type": "code",
   "execution_count": null,
   "metadata": {},
   "outputs": [],
   "source": [
    "display(L, U)"
   ]
  },
  {
   "cell_type": "markdown",
   "metadata": {},
   "source": [
    "## Décomposition QR\n",
    "$A = Q*R$ où $Q$ est orthogonale et $R$ est triangulaire supérieure."
   ]
  },
  {
   "cell_type": "markdown",
   "metadata": {},
   "source": [
    "ERRATUM: c'est moche"
   ]
  },
  {
   "cell_type": "markdown",
   "metadata": {},
   "source": [
    "## Cholesky\n",
    "Décomposition $A = L L^\\intercal$"
   ]
  },
  {
   "cell_type": "code",
   "execution_count": null,
   "metadata": {},
   "outputs": [],
   "source": [
    "L = Q22.cholesky(hermitian=False)"
   ]
  },
  {
   "cell_type": "code",
   "execution_count": null,
   "metadata": {},
   "outputs": [],
   "source": [
    "display(L.inv())"
   ]
  },
  {
   "cell_type": "markdown",
   "metadata": {},
   "source": [
    "## LDL\n",
    "Variante de Cholesky: $A=LDL^\\intercal$, symmetric indefinite facorization."
   ]
  },
  {
   "cell_type": "code",
   "execution_count": null,
   "metadata": {},
   "outputs": [],
   "source": [
    "L, D = Q22.LDLdecomposition(hermitian=False)"
   ]
  },
  {
   "cell_type": "code",
   "execution_count": null,
   "metadata": {},
   "outputs": [],
   "source": [
    "Q22inv = sy.SparseMatrix(Q22).inv(method='LDL')"
   ]
  },
  {
   "cell_type": "code",
   "execution_count": null,
   "metadata": {},
   "outputs": [],
   "source": [
    "display(Q22inv)"
   ]
  },
  {
   "cell_type": "code",
   "execution_count": null,
   "metadata": {
    "scrolled": false
   },
   "outputs": [],
   "source": [
    "display(L,D)"
   ]
  },
  {
   "cell_type": "markdown",
   "metadata": {},
   "source": [
    "Question: Est-ce que $D$ est inversible?"
   ]
  },
  {
   "cell_type": "code",
   "execution_count": null,
   "metadata": {
    "scrolled": true
   },
   "outputs": [],
   "source": [
    "D.det().simplify()"
   ]
  },
  {
   "cell_type": "markdown",
   "metadata": {},
   "source": [
    "Réponse: oui, car son déterminant est toujours positif"
   ]
  },
  {
   "cell_type": "code",
   "execution_count": null,
   "metadata": {},
   "outputs": [],
   "source": [
    "L.det().simplify()"
   ]
  },
  {
   "cell_type": "markdown",
   "metadata": {},
   "source": [
    "## Inverser\n",
    "$D$ est diagonale et noe pose donc aucun problème. $L$ est bi-diagonale, faut chercher."
   ]
  },
  {
   "cell_type": "code",
   "execution_count": null,
   "metadata": {},
   "outputs": [],
   "source": [
    "L"
   ]
  },
  {
   "cell_type": "code",
   "execution_count": null,
   "metadata": {},
   "outputs": [],
   "source": [
    "Linv = L.inv()"
   ]
  },
  {
   "cell_type": "code",
   "execution_count": null,
   "metadata": {},
   "outputs": [],
   "source": [
    "Linv"
   ]
  },
  {
   "cell_type": "code",
   "execution_count": null,
   "metadata": {},
   "outputs": [],
   "source": [
    "LinvDinvLinvT = Linv*D.inv()*Linv.T"
   ]
  },
  {
   "cell_type": "code",
   "execution_count": null,
   "metadata": {},
   "outputs": [],
   "source": [
    "LinvDinvLinvT.applyfunc(f)"
   ]
  }
 ],
 "metadata": {
  "kernelspec": {
   "display_name": "Python 3",
   "language": "python",
   "name": "python3"
  },
  "language_info": {
   "codemirror_mode": {
    "name": "ipython",
    "version": 3
   },
   "file_extension": ".py",
   "mimetype": "text/x-python",
   "name": "python",
   "nbconvert_exporter": "python",
   "pygments_lexer": "ipython3",
   "version": "3.8.2"
  }
 },
 "nbformat": 4,
 "nbformat_minor": 2
}
